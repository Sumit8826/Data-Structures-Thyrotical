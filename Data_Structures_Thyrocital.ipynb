{
  "nbformat": 4,
  "nbformat_minor": 0,
  "metadata": {
    "colab": {
      "provenance": []
    },
    "kernelspec": {
      "name": "python3",
      "display_name": "Python 3"
    },
    "language_info": {
      "name": "python"
    }
  },
  "cells": [
    {
      "cell_type": "markdown",
      "source": [
        "# **Data Types and Structures Questions**"
      ],
      "metadata": {
        "id": "BsdL8-YPPRUG"
      }
    },
    {
      "cell_type": "markdown",
      "source": [
        "1. What are data structures, and why are they important?"
      ],
      "metadata": {
        "id": "_2MTibU0PYE0"
      }
    },
    {
      "cell_type": "markdown",
      "source": [
        "Ans. Data structures are ways of organizing and storing data in a computer so that it can be accessed and manipulated efficiently. They are a key concept in computer science because they define the relationship between the data and the operations that can be performed on it. By choosing the right data structure, you can improve both the speed and memory usage of your program.\n",
        "\n",
        "### **Common Types of Data Structures:**\n",
        "1. **Arrays**: Contiguous blocks of memory, allowing fast access using an index.\n",
        "2. **Linked Lists**: A collection of elements (nodes) where each node points to the next one.\n",
        "3. **Stacks**: Follow the Last In, First Out (LIFO) principle.\n",
        "4. **Queues**: Follow the First In, First Out (FIFO) principle.\n",
        "5. **Trees**: Hierarchical structures, such as binary trees, that allow efficient searching and sorting.\n",
        "6. **Hash Tables**: Store data in key-value pairs, allowing fast access via the key.\n",
        "7. **Graphs**: Consist of nodes (vertices) and edges, used to represent relationships between entities.\n",
        "\n",
        "### **Importance of Data Structures:**\n",
        "1. **Efficiency**: Proper use of data structures makes algorithms more efficient. For example, using a hash table for fast lookups or a heap for efficient priority queues.\n",
        "2. **Optimal Memory Use**: Some structures, like linked lists, can be more memory-efficient for dynamic data compared to arrays.\n",
        "3. **Faster Algorithms**: Algorithms are often built on specific data structures. For example, binary search works efficiently with sorted arrays or trees.\n",
        "4. **Problem Solving**: Many problems in computer science can be tackled more effectively by choosing the right data structure. For example, graph algorithms are used in social networks, route finding, etc.\n",
        "5. **Scalability**: As data grows in size, the right data structure can help scale your applications effectively, preventing bottlenecks and slowdowns."
      ],
      "metadata": {
        "id": "ZJIX1w0pPgcu"
      }
    },
    {
      "cell_type": "markdown",
      "source": [
        "2.  Explain the difference between mutable and immutable data types with examples."
      ],
      "metadata": {
        "id": "thfO0MWlQPgl"
      }
    },
    {
      "cell_type": "markdown",
      "source": [
        "Ans. The difference between **mutable** and **immutable** data types lies in whether the data can be modified after it is created.\n",
        "\n",
        "### 1. **Mutable Data Types**:\n",
        "Mutable data types can be changed or modified after they are created. This means that you can alter the contents of the data structure without creating a new instance of it.\n",
        "\n",
        "#### Examples of Mutable Data Types:\n",
        "- **Lists** in Python: You can modify, add, or remove elements after the list is created.\n",
        "  ```python\n",
        "  my_list = [1, 2, 3]\n",
        "  my_list[1] = 5  # Modify an element\n",
        "  my_list.append(4)  # Add an element\n",
        "  print(my_list)  # Output: [1, 5, 3, 4]\n",
        "  ```\n",
        "  \n",
        "- **Dictionaries** in Python: You can add, modify, or remove key-value pairs.\n",
        "  ```python\n",
        "  my_dict = {'name': 'Alice', 'age': 25}\n",
        "  my_dict['age'] = 26  # Modify a value\n",
        "  my_dict['city'] = 'New York'  # Add a new key-value pair\n",
        "  print(my_dict)  # Output: {'name': 'Alice', 'age': 26, 'city': 'New York'}\n",
        "  ```\n",
        "\n",
        "- **Sets** in Python: You can add or remove elements from a set.\n",
        "  ```python\n",
        "  my_set = {1, 2, 3}\n",
        "  my_set.add(4)  # Add an element\n",
        "  my_set.remove(2)  # Remove an element\n",
        "  print(my_set)  # Output: {1, 3, 4}\n",
        "  ```\n",
        "\n",
        "### 2. **Immutable Data Types**:\n",
        "Immutable data types cannot be modified after they are created. Once they are created, any attempt to change their value will result in the creation of a new object, leaving the original one unchanged.\n",
        "\n",
        "#### Examples of Immutable Data Types:\n",
        "- **Strings** in Python: Once a string is created, you cannot modify it.\n",
        "  ```python\n",
        "  my_str = \"hello\"\n",
        "  # my_str[0] = 'H'  # This would raise an error: 'str' object does not support item assignment\n",
        "  my_str = \"Hello\"  # You create a new string instead of modifying the old one\n",
        "  print(my_str)  # Output: \"Hello\"\n",
        "  ```\n",
        "\n",
        "- **Tuples** in Python: You cannot modify the elements of a tuple after it is created.\n",
        "  ```python\n",
        "  my_tuple = (1, 2, 3)\n",
        "  # my_tuple[0] = 10  # This would raise an error: 'tuple' object does not support item assignment\n",
        "  my_tuple = (10, 2, 3)  # A new tuple is created\n",
        "  print(my_tuple)  # Output: (10, 2, 3)\n",
        "  ```\n",
        "\n",
        "- **Integers** in Python: You cannot modify an integer. Instead, any arithmetic operation creates a new integer object.\n",
        "  ```python\n",
        "  my_int = 5\n",
        "  my_int = my_int + 1  # This doesn't modify the original integer but creates a new one\n",
        "  print(my_int)  # Output: 6\n",
        "  ```\n",
        "\n",
        "### Key Differences:\n",
        "\n",
        "| Feature              | Mutable Data Types                      | Immutable Data Types                     |\n",
        "|----------------------|-----------------------------------------|------------------------------------------|\n",
        "| **Modification**      | Can be changed after creation.          | Cannot be changed after creation.        |\n",
        "| **Examples**          | Lists, Dictionaries, Sets, Custom Objects| Strings, Tuples, Integers, Frozensets    |\n",
        "| **Efficiency**        | Changes are typically fast (no new object created). | New objects are created for modifications. |\n",
        "| **Memory Impact**     | Modifications directly affect the object in memory. | Modifications create new objects, which may use more memory. |\n",
        "| **Use Cases**         | Used when you expect to modify the data often. | Useful when you need data integrity and immutability. |\n"
      ],
      "metadata": {
        "id": "BbscMannQVq5"
      }
    },
    {
      "cell_type": "markdown",
      "source": [
        "3. What are the main differences between lists and tuples in Python?"
      ],
      "metadata": {
        "id": "jQKGDPDbQ5Lr"
      }
    },
    {
      "cell_type": "markdown",
      "source": [
        "Ans. In Python, both **lists** and **tuples** are used to store collections of elements, but there are key differences between them that affect how they behave in your program. Here are the main differences:\n",
        "\n",
        "### 1. **Mutability**:\n",
        "- **Lists** are **mutable**, meaning you can modify them after creation (e.g., add, remove, or change elements).\n",
        "  ```python\n",
        "  my_list = [1, 2, 3]\n",
        "  my_list[0] = 10  # Modify an element\n",
        "  my_list.append(4)  # Add an element\n",
        "  print(my_list)  # Output: [10, 2, 3, 4]\n",
        "  ```\n",
        "  \n",
        "- **Tuples** are **immutable**, meaning once they are created, their elements cannot be changed, added, or removed.\n",
        "  ```python\n",
        "  my_tuple = (1, 2, 3)\n",
        "  # my_tuple[0] = 10  # This would raise an error: 'tuple' object does not support item assignment\n",
        "  ```\n",
        "\n",
        "### 2. **Syntax**:\n",
        "- **Lists** are defined using **square brackets** `[ ]`.\n",
        "  ```python\n",
        "  my_list = [1, 2, 3, 4]\n",
        "  ```\n",
        "\n",
        "- **Tuples** are defined using **parentheses** `( )`.\n",
        "  ```python\n",
        "  my_tuple = (1, 2, 3, 4)\n",
        "  ```\n",
        "\n",
        "### 3. **Performance**:\n",
        "- **Lists** have more overhead due to their mutability (i.e., the ability to change size and modify elements).\n",
        "- **Tuples** are more **memory-efficient** and **faster** to iterate over because they are immutable and their size is fixed.\n",
        "  \n",
        "  This makes **tuples** better for read-only collections or when you need to store data that should not change.\n",
        "\n",
        "### 4. **Use Cases**:\n",
        "- **Lists** are ideal when you need a **mutable** collection (e.g., when you need to update, sort, or modify the data).\n",
        "  ```python\n",
        "  # Example: Keep track of items that need to be updated or modified\n",
        "  my_list = [1, 2, 3]\n",
        "  my_list.append(4)\n",
        "  ```\n",
        "\n",
        "- **Tuples** are often used to store **immutable** collections, or for data that should not be changed. They are also used as keys in dictionaries (since they are hashable, unlike lists).\n",
        "  ```python\n",
        "  # Example: Representing fixed data (coordinates, RGB values, etc.)\n",
        "  coordinates = (10, 20)\n",
        "  ```\n",
        "\n",
        "### 5. **Methods**:\n",
        "- **Lists** come with many built-in methods like `.append()`, `.remove()`, `.insert()`, `.extend()`, `.pop()`, etc., because they are mutable and meant to be modified.\n",
        "  ```python\n",
        "  my_list = [1, 2, 3]\n",
        "  my_list.append(4)  # Add an element\n",
        "  ```\n",
        "\n",
        "- **Tuples** have only a few methods, like `.count()` and `.index()`, because they are immutable.\n",
        "  ```python\n",
        "  my_tuple = (1, 2, 3)\n",
        "  print(my_tuple.count(2))  # Output: 1\n",
        "  ```\n",
        "\n",
        "### 6. **Immutability and Hashing**:\n",
        "- Since **tuples** are immutable, they can be used as **keys in dictionaries** and elements in sets, whereas **lists** cannot.\n",
        "  ```python\n",
        "  # Tuples can be used as dictionary keys\n",
        "  my_dict = { (1, 2): 'a' }\n",
        "  \n",
        "  # Lists cannot be used as dictionary keys (raises TypeError)\n",
        "  # my_dict = { [1, 2]: 'a' }  # TypeError: unhashable type: 'list'\n",
        "  ```\n",
        "\n",
        "### 7. **Memory**:\n",
        "- **Tuples** consume **less memory** compared to lists because they are immutable and don't require extra memory to store information about how they can change.\n",
        "- **Lists** require more memory since they need to support mutability (e.g., for resizing or tracking changes).\n",
        "\n",
        "### Summary of Differences:\n",
        "\n",
        "| Feature               | **List**                           | **Tuple**                         |\n",
        "|-----------------------|------------------------------------|-----------------------------------|\n",
        "| **Mutability**         | Mutable (can be changed)           | Immutable (cannot be changed)     |\n",
        "| **Syntax**             | Defined with square brackets `[ ]` | Defined with parentheses `( )`    |\n",
        "| **Performance**        | Slower due to mutability overhead  | Faster and more memory-efficient |\n",
        "| **Methods**            | Many (e.g., `.append()`, `.pop()`) | Few (e.g., `.count()`, `.index()`) |\n",
        "| **Use cases**          | When you need to modify elements   | When you need an immutable collection |\n",
        "| **Hashable**           | Not hashable (cannot be used as keys in dictionaries) | Hashable (can be used as keys in dictionaries) |\n",
        "| **Memory Consumption** | More memory due to mutability      | Less memory due to immutability  |"
      ],
      "metadata": {
        "id": "GZ3GbbZsRnxC"
      }
    },
    {
      "cell_type": "markdown",
      "source": [
        "4. Describe how dictionaries store data."
      ],
      "metadata": {
        "id": "hqV7-5nbSGmK"
      }
    },
    {
      "cell_type": "markdown",
      "source": [
        "Ans. Dictionaries in Python are a **collection** of key-value pairs, where each key is unique and maps to a specific value. They are implemented using a **hash table** internally, which allows for fast lookups, insertions, and deletions. Here’s a deeper look into how they work:\n",
        "\n",
        "### 1. **Structure of a Dictionary:**\n",
        "A dictionary is composed of two main parts:\n",
        "- **Key**: A unique identifier used to access a specific value. Keys must be **immutable** data types (e.g., strings, numbers, tuples).\n",
        "- **Value**: The data associated with a specific key. The value can be any data type, including mutable types like lists or other dictionaries.\n",
        "\n",
        "Example:\n",
        "```python\n",
        "my_dict = {'name': 'Alice', 'age': 25, 'city': 'New York'}\n",
        "```\n",
        "Here, `'name'`, `'age'`, and `'city'` are keys, and `'Alice'`, `25`, and `'New York'` are the corresponding values.\n",
        "\n",
        "### 2. **How Data is Stored (Using a Hash Table):**\n",
        "Internally, Python dictionaries use a **hash table** to store data. A hash table is a data structure that allows for efficient storage and retrieval of data using keys. Here’s how it works:\n",
        "\n",
        "#### **Hashing the Key**:\n",
        "- When a key is inserted into the dictionary, Python computes a **hash value** for that key using a hash function.\n",
        "- This hash value is a unique number that represents the key. Python uses this hash to determine where to store the associated value in memory.\n",
        "\n",
        "For example, if the key is `'name'`, Python applies a hash function to `'name'` to get a unique integer hash value. This hash value is then used to determine the index where the value `'Alice'` will be stored.\n",
        "\n",
        "#### **Handling Collisions**:\n",
        "- In some cases, different keys may produce the same hash value (this is known as a **collision**).\n",
        "- Python handles collisions using a technique called **open addressing** (by checking the next available slot in the hash table) or **chaining** (linking elements that have the same hash value).\n",
        "\n",
        "#### **Fast Access**:\n",
        "- To retrieve a value, Python computes the hash of the key and directly accesses the index in memory where the value is stored.\n",
        "- This provides **constant-time** (O(1)) lookups on average, making dictionary lookups very efficient.\n",
        "\n",
        "### 3. **Insertion of Key-Value Pairs**:\n",
        "When a new key-value pair is added to a dictionary, Python:\n",
        "- Computes the hash of the key.\n",
        "- Checks if the slot corresponding to that hash value is empty or if it contains a collision.\n",
        "- If the slot is empty or contains a key that is not the same, the value is stored there.\n",
        "- If a collision occurs (the key already exists in the dictionary), the value is replaced or updated (if needed).\n",
        "\n",
        "Example:\n",
        "```python\n",
        "my_dict = {'name': 'Alice'}\n",
        "my_dict['age'] = 25  # Adding a new key-value pair\n",
        "```\n",
        "Here, the key `'age'` will be hashed, and its corresponding value `25` will be stored at the appropriate position in memory.\n",
        "\n",
        "### 4. **Deletion of Key-Value Pairs**:\n",
        "To delete a key-value pair, Python:\n",
        "- Computes the hash of the key to find the position in the hash table.\n",
        "- Removes the key-value pair from that position.\n",
        "- If there are any subsequent keys (due to collisions), they will be rehashed and moved to fill the gap.\n",
        "\n",
        "Example:\n",
        "```python\n",
        "del my_dict['name']  # Removes the 'name' key-value pair\n",
        "```\n",
        "\n",
        "### 5. **Efficiency**:\n",
        "Dictionaries provide **average O(1)** time complexity for the following operations:\n",
        "- **Lookup**: Accessing the value associated with a key.\n",
        "- **Insertion**: Adding a new key-value pair.\n",
        "- **Deletion**: Removing a key-value pair.\n",
        "This efficiency comes from the use of the hash table, which allows direct access to the key’s location.\n",
        "\n",
        "### 6. **Order of Elements**:\n",
        "In **Python 3.7+**, dictionaries maintain **insertion order**. This means that when you iterate over a dictionary, the key-value pairs will be returned in the order in which they were added.\n",
        "\n",
        "Example:\n",
        "```python\n",
        "my_dict = {'a': 1, 'b': 2, 'c': 3}\n",
        "for key, value in my_dict.items():\n",
        "    print(key, value)\n",
        "# Output:\n",
        "# a 1\n",
        "# b 2\n",
        "# c 3\n",
        "```\n",
        "\n",
        "### 7. **Why Are Keys Immutable?**\n",
        "Keys need to be **immutable** so that their hash values do not change during the dictionary's lifetime. If the hash value of a key changed, it would be difficult for Python to locate the value associated with that key. Immutable types (like strings, numbers, and tuples) ensure that the hash value remains constant, allowing the dictionary to operate correctly.\n",
        "\n",
        "### Summary of How Dictionaries Store Data:\n",
        "- **Keys** are hashed to compute their position in a hash table.\n",
        "- The **hash table** stores key-value pairs, with each key pointing to its associated value.\n",
        "- **Collisions** are handled through open addressing or chaining.\n",
        "- Dictionaries offer **constant-time (O(1)) lookups, insertions, and deletions** on average.\n",
        "- The **keys must be immutable** to ensure consistent hash values.\n",
        "\n",
        "Dictionaries are widely used in Python because of their speed, flexibility, and efficiency in managing key-value relationships."
      ],
      "metadata": {
        "id": "B0WZHzsYSQHZ"
      }
    },
    {
      "cell_type": "markdown",
      "source": [
        "5. Why might you use a set instead of a list in Python?"
      ],
      "metadata": {
        "id": "xLlVxMxWSu5O"
      }
    },
    {
      "cell_type": "markdown",
      "source": [
        "Ans. In Python, both **sets** and **lists** are used to store collections of elements, but they have different characteristics that make them suitable for different use cases. Here are the key reasons why you might choose a **set** over a **list**:\n",
        "\n",
        "### 1. **Uniqueness of Elements**:\n",
        "- **Sets** automatically enforce **uniqueness**. If you try to add a duplicate element to a set, it will not be added.\n",
        "  - **Use case**: When you need to store a collection of items and ensure there are no duplicates (e.g., a collection of unique tags, usernames, or IDs).\n",
        "  \n",
        "  Example:\n",
        "  ```python\n",
        "  my_set = {1, 2, 3}\n",
        "  my_set.add(2)  # 2 is already in the set, so it won't be added again\n",
        "  print(my_set)  # Output: {1, 2, 3}\n",
        "  ```\n",
        "\n",
        "- **Lists** do not enforce uniqueness, and duplicates are allowed.\n",
        "  ```python\n",
        "  my_list = [1, 2, 3]\n",
        "  my_list.append(2)  # 2 is added again\n",
        "  print(my_list)  # Output: [1, 2, 3, 2]\n",
        "  ```\n",
        "\n",
        "### 2. **Efficiency of Lookups (O(1) Average Time Complexity)**:\n",
        "- **Sets** provide **faster lookups** on average. Checking if an element is in a set is typically O(1) due to the underlying hash table implementation.\n",
        "  - **Use case**: When you need to quickly check membership or perform fast lookups, like checking if an item exists in a collection.\n",
        "  \n",
        "  Example:\n",
        "  ```python\n",
        "  my_set = {1, 2, 3}\n",
        "  print(2 in my_set)  # Output: True (O(1) lookup time)\n",
        "  ```\n",
        "\n",
        "- **Lists** have an average time complexity of O(n) for checking if an element exists because they require a linear search through the elements.\n",
        "  ```python\n",
        "  my_list = [1, 2, 3]\n",
        "  print(2 in my_list)  # Output: True (O(n) lookup time)\n",
        "  ```\n",
        "\n",
        "### 3. **Set Operations (Mathematical Set Operations)**:\n",
        "- **Sets** support powerful **mathematical set operations** such as **union**, **intersection**, **difference**, and **symmetric difference**. These operations are easy to use and optimized for performance.\n",
        "  - **Use case**: When you need to perform operations on groups of elements, such as finding common items between two sets or combining sets.\n",
        "\n",
        "  Example:\n",
        "  ```python\n",
        "  set_a = {1, 2, 3}\n",
        "  set_b = {3, 4, 5}\n",
        "  print(set_a & set_b)  # Output: {3} (intersection)\n",
        "  print(set_a | set_b)  # Output: {1, 2, 3, 4, 5} (union)\n",
        "  print(set_a - set_b)  # Output: {1, 2} (difference)\n",
        "  ```\n",
        "\n",
        "- **Lists** do not directly support these set operations, and you would need to use loops or list comprehensions to achieve similar results.\n",
        "\n",
        "### 4. **Unordered Collection**:\n",
        "- **Sets** are **unordered**, meaning they do not guarantee any specific order of elements when iterating. This can be beneficial if you don’t care about the order of elements and want to focus on the existence of elements.\n",
        "  - **Use case**: When the order of elements doesn't matter, and you just need a collection of unique items.\n",
        "\n",
        "  Example:\n",
        "  ```python\n",
        "  my_set = {3, 1, 2}\n",
        "  for item in my_set:\n",
        "      print(item)  # Output order is not guaranteed\n",
        "  ```\n",
        "\n",
        "- **Lists** maintain **order**, so elements are stored in the order they are added.\n",
        "  ```python\n",
        "  my_list = [3, 1, 2]\n",
        "  for item in my_list:\n",
        "      print(item)  # Output: 3, 1, 2\n",
        "  ```\n",
        "\n",
        "### 5. **Memory Efficiency**:\n",
        "- **Sets** are often more memory-efficient for large collections of unique items because they store data in a way that avoids duplicate entries and doesn't need extra memory to store indices like lists do.\n",
        "  \n",
        "  - **Use case**: When working with large datasets that require ensuring uniqueness and efficiency in terms of memory usage.\n",
        "\n",
        "- **Lists** can be less efficient in terms of memory usage, especially when they contain a lot of duplicate elements.\n",
        "\n",
        "### When to Use a **Set**:\n",
        "- When you **need unique elements** (no duplicates).\n",
        "- When you need **fast membership checks** and **lookups** (on average O(1) time complexity).\n",
        "- When you need to perform **set operations** (union, intersection, difference).\n",
        "- When the **order of elements** doesn't matter.\n",
        "\n",
        "### When to Use a **List**:\n",
        "- When you need an **ordered collection** and care about the sequence of elements.\n",
        "- When you need to store **duplicate elements**.\n",
        "- When you need to maintain the **order** in which items were added.\n",
        "\n",
        "### Summary:\n",
        "\n",
        "| Feature                   | **Set**                                    | **List**                                    |\n",
        "|---------------------------|--------------------------------------------|---------------------------------------------|\n",
        "| **Uniqueness**             | Automatically ensures unique elements.     | Allows duplicates.                         |\n",
        "| **Lookup Time**            | O(1) on average (fast lookups).            | O(n) on average (slower lookups).          |\n",
        "| **Order**                  | Unordered (no guarantee of element order). | Ordered (elements maintain insertion order).|\n",
        "| **Operations**             | Supports set operations (union, intersection, etc.). | No direct support for set operations.     |\n",
        "| **Mutability**             | Mutable (can add/remove elements).         | Mutable (can add/remove elements).         |\n",
        "\n",
        "In conclusion, you would choose a **set** over a **list** when you need **unique elements**, need fast **lookups**, or need to perform **set operations**. However, if **order** matters or you need to store **duplicate items**, a **list** is more appropriate."
      ],
      "metadata": {
        "id": "IrqCu6roS3E3"
      }
    },
    {
      "cell_type": "markdown",
      "source": [
        "6.  What is a string in Python, and how is it different from a list?"
      ],
      "metadata": {
        "id": "VA6WIdTLTM0d"
      }
    },
    {
      "cell_type": "markdown",
      "source": [
        "Ans. A **string** in Python is a **sequence of characters** enclosed within either single quotes (`'`) or double quotes (`\"`). Strings are commonly used to store and manipulate textual data, like names, sentences, and any other form of text. Strings are an **immutable** data type, which means that once a string is created, its content cannot be modified.\n",
        "\n",
        "### Basic Characteristics of Strings:\n",
        "- Strings are **immutable**: You cannot change the content of a string after it is created.\n",
        "- Strings are **indexed**: Each character in a string has a position or index, starting from `0` (first character).\n",
        "- Strings are **ordered**: The order of characters in a string matters, and the positions of characters are preserved.\n",
        "- You can **concatenate** strings using the `+` operator and **repeat** them using the `*` operator.\n",
        "\n",
        "#### Example:\n",
        "```python\n",
        "my_string = \"Hello, World!\"\n",
        "print(my_string)  # Output: Hello, World!\n",
        "```\n",
        "\n",
        "### Differences Between a String and a List:\n",
        "\n",
        "| Feature               | **String**                          | **List**                            |\n",
        "|-----------------------|-------------------------------------|-------------------------------------|\n",
        "| **Data Type**         | Sequence of characters (text).      | Sequence of items (can be of any type, e.g., numbers, strings, objects). |\n",
        "| **Mutability**        | **Immutable** (cannot change individual characters once created). | **Mutable** (can modify the elements, add, remove, or change them). |\n",
        "| **Element Type**      | Contains only **characters** (strings of text). | Can contain any **data type** (integers, strings, other lists, etc.). |\n",
        "| **Indexing**          | Strings are indexed by characters, starting from `0`. | Lists are indexed by their positions, starting from `0`. |\n",
        "| **Methods**           | String methods include `.upper()`, `.lower()`, `.split()`, `.replace()`, etc. | List methods include `.append()`, `.remove()`, `.pop()`, `.sort()`, etc. |\n",
        "| **Syntax**            | Defined with single or double quotes (`'` or `\"`). | Defined with square brackets (`[ ]`). |\n",
        "| **Example**           | `my_string = \"Hello\"`               | `my_list = [1, 2, \"apple\", [3, 4]]`  |\n",
        "| **Operations**        | Concatenation (`+`), Repetition (`*`), Slicing. | Concatenation (`+`), Repetition (`*`), Slicing, Append, Insert, Remove, etc. |\n",
        "\n",
        "### Key Differences in Detail:\n",
        "\n",
        "1. **Mutability**:\n",
        "   - **String**: Once a string is created, its content cannot be modified. If you attempt to change an individual character in a string, it will result in an error.\n",
        "     ```python\n",
        "     my_string = \"hello\"\n",
        "     # my_string[0] = \"H\"  # Error: 'str' object does not support item assignment\n",
        "     ```\n",
        "   - **List**: Lists are mutable, meaning you can change, add, or remove elements after the list is created.\n",
        "     ```python\n",
        "     my_list = [1, 2, 3]\n",
        "     my_list[0] = 10  # Modify an element\n",
        "     print(my_list)  # Output: [10, 2, 3]\n",
        "     ```\n",
        "\n",
        "2. **Content Type**:\n",
        "   - **String**: A string can only contain characters (e.g., letters, digits, punctuation marks).\n",
        "     ```python\n",
        "     my_string = \"hello\"\n",
        "     ```\n",
        "   - **List**: A list can contain elements of different data types, such as numbers, strings, or even other lists.\n",
        "     ```python\n",
        "     my_list = [1, \"apple\", 3.14, [5, 6]]\n",
        "     ```\n",
        "\n",
        "3. **Operations**:\n",
        "   - **String**: Common operations include string concatenation (`+`), repetition (`*`), and slicing. You can also apply string methods to manipulate text, like `.upper()`, `.lower()`, `.replace()`, `.split()`, etc.\n",
        "     ```python\n",
        "     my_string = \"hello\"\n",
        "     print(my_string + \" world\")  # Concatenation: \"hello world\"\n",
        "     print(my_string * 3)         # Repetition: \"hellohellohello\"\n",
        "     print(my_string[1:4])        # Slicing: \"ell\"\n",
        "     ```\n",
        "   - **List**: Lists support operations like appending elements (`append()`), inserting elements (`insert()`), removing elements (`remove()`), sorting (`sort()`), and more. Lists also support slicing.\n",
        "     ```python\n",
        "     my_list = [1, 2, 3]\n",
        "     my_list.append(4)           # Add an element\n",
        "     print(my_list)              # Output: [1, 2, 3, 4]\n",
        "     my_list.remove(2)           # Remove an element\n",
        "     print(my_list)              # Output: [1, 3, 4]\n",
        "     ```\n",
        "\n",
        "4. **Slicing**:\n",
        "   - Both strings and lists support **slicing**, but the key difference is that while slicing a string gives you a new string, slicing a list gives you a new list.\n",
        "     ```python\n",
        "     # String slicing\n",
        "     my_string = \"hello\"\n",
        "     print(my_string[1:4])  # Output: \"ell\"\n",
        "     \n",
        "     # List slicing\n",
        "     my_list = [1, 2, 3, 4]\n",
        "     print(my_list[1:4])  # Output: [2, 3, 4]\n",
        "     ```\n",
        "\n",
        "5. **Performance**:\n",
        "   - Since strings are **immutable**, they can be more memory-efficient for storing fixed textual data.\n",
        "   - Lists, being **mutable**, tend to have a bit more overhead, as they are designed to allow changes like adding, removing, or modifying elements.\n",
        "\n",
        "### Summary:\n",
        "\n",
        "- **Strings** are sequences of **characters** and are **immutable**, making them ideal for handling fixed, text-based data.\n",
        "- **Lists** are **ordered** collections that can contain elements of any data type and are **mutable**, making them flexible for storing and manipulating collections of data.\n",
        "\n",
        "In summary:\n",
        "- If you need to store a collection of **characters** (text) and do not need to modify individual characters, use a **string**.\n",
        "- If you need to store a collection of **elements** (which can be of any type) and you want to be able to **modify** the collection, use a **list**."
      ],
      "metadata": {
        "id": "w2jFbsYjTUch"
      }
    },
    {
      "cell_type": "markdown",
      "source": [
        "7. How do tuples ensure data integrity in Python?"
      ],
      "metadata": {
        "id": "yXhxad5kTrbs"
      }
    },
    {
      "cell_type": "markdown",
      "source": [
        "Ans. In Python, **tuples** are used to store an ordered collection of elements, and they are **immutable**, meaning once a tuple is created, its contents cannot be altered. This immutability is key to ensuring **data integrity** in several ways.\n",
        "\n",
        "### How Tuples Ensure Data Integrity:\n",
        "\n",
        "1. **Immutability Prevents Modification**:\n",
        "   - Once a tuple is created, you cannot change, add, or remove its elements. This ensures that the data remains consistent throughout the program, preventing accidental changes.\n",
        "   - **Example**:\n",
        "     ```python\n",
        "     my_tuple = (1, 2, 3)\n",
        "     # my_tuple[0] = 10  # This would raise an error: TypeError: 'tuple' object does not support item assignment\n",
        "     ```\n",
        "     Since the data cannot be modified, you avoid the risk of data getting changed unintentionally during the execution of your program.\n",
        "\n",
        "2. **Consistency in Data Handling**:\n",
        "   - Because tuples cannot be modified, any function or process that takes a tuple as input can rely on the fact that the data inside the tuple will not change. This makes your code more predictable and reliable.\n",
        "   - **Example**: If you pass a tuple as an argument to a function, you are assured that the tuple will remain unchanged, helping maintain the integrity of the data.\n",
        "     ```python\n",
        "     def process_data(data):\n",
        "         # Data will not change inside the function, maintaining integrity\n",
        "         print(data)\n",
        "\n",
        "     my_tuple = (1, 2, 3)\n",
        "     process_data(my_tuple)  # Output: (1, 2, 3)\n",
        "     ```\n",
        "\n",
        "3. **Safe to Use as Dictionary Keys**:\n",
        "   - Tuples, being **immutable**, can be used as **keys in dictionaries**, whereas lists cannot be. The immutability of tuples ensures that their hash values remain constant throughout the program, allowing them to be used as reliable keys.\n",
        "   - **Example**:\n",
        "     ```python\n",
        "     my_dict = {}\n",
        "     my_key = (1, 2, 3)  # Tuple as a key\n",
        "     my_dict[my_key] = \"value\"\n",
        "     print(my_dict)  # Output: {(1, 2, 3): 'value'}\n",
        "     ```\n",
        "\n",
        "4. **Preserving Data Integrity in Data Structures**:\n",
        "   - Tuples are commonly used in cases where data integrity is a priority, such as when dealing with records or data that should not be altered. For example, in applications that track coordinates (latitude and longitude), you may use a tuple to ensure that the data for each coordinate pair is not modified accidentally.\n",
        "   - **Example**: Using a tuple to represent a geographic coordinate:\n",
        "     ```python\n",
        "     coordinates = (40.7128, 74.0060)  # (latitude, longitude)\n",
        "     # You cannot change the latitude or longitude by mistake, ensuring integrity.\n",
        "     ```\n",
        "\n",
        "5. **Safe Concurrent Access**:\n",
        "   - Since tuples are immutable, they are **thread-safe** in scenarios where multiple parts of a program or different threads need access to the data. Since no one can change the data, it prevents issues like race conditions, where one part of the program might unintentionally alter the data while another part is still using it.\n",
        "   \n",
        "6. **Prevention of Accidental Data Overwrites**:\n",
        "   - When working with lists (which are mutable), there is a risk of accidentally modifying the data. However, with tuples, the risk of overwriting or changing data is eliminated.\n",
        "   - This is especially important in complex systems or when you have sensitive data that should remain unchanged throughout the execution of your program.\n",
        "\n",
        "### Example: Data Integrity with Tuples\n",
        "\n",
        "Let's consider an example where you need to maintain the coordinates of a point in a system:\n",
        "\n",
        "```python\n",
        "# Coordinates of a city, which should not be changed accidentally\n",
        "city_coordinates = (40.7128, 74.0060)  # (latitude, longitude)\n",
        "\n",
        "# Function that uses the coordinates\n",
        "def print_coordinates(coordinates):\n",
        "    print(f\"Latitude: {coordinates[0]}, Longitude: {coordinates[1]}\")\n",
        "\n",
        "# Attempt to modify the tuple (this will result in an error)\n",
        "# city_coordinates[0] = 41.0  # This would raise a TypeError\n",
        "\n",
        "print_coordinates(city_coordinates)  # Output: Latitude: 40.7128, Longitude: 74.0060\n",
        "```\n",
        "\n",
        "Here, since the tuple is immutable, it ensures that the `city_coordinates` remain unchanged throughout the program, guaranteeing that the integrity of the geographical data is preserved.\n",
        "\n",
        "### In Summary:\n",
        "- **Immutability**: The core feature that ensures the integrity of tuples is their **immutable nature**. Once created, you cannot modify, add, or remove elements from a tuple. This guarantees that the data remains consistent and protected from accidental changes.\n",
        "- **Thread-safety**: Their immutability makes tuples inherently thread-safe, which is useful in multi-threaded applications where concurrent access to the data is required.\n",
        "- **Reliable Use in Data Structures**: Tuples can be used as dictionary keys or as part of data structures where data integrity is critical.\n",
        "\n",
        "Tuples are an excellent choice when you want to **protect** data from being modified and ensure that the data remains **consistent and reliable** throughout your program's execution."
      ],
      "metadata": {
        "id": "OqpUK2ReTwHf"
      }
    },
    {
      "cell_type": "markdown",
      "source": [
        "8.  What is a hash table, and how does it relate to dictionaries in Python?"
      ],
      "metadata": {
        "id": "bKz5uuMpT-Ny"
      }
    },
    {
      "cell_type": "markdown",
      "source": [
        "Ans. A **hash table** is a data structure used to implement associative arrays, or maps, which allow for efficient key-value storage and retrieval. It is designed to store data in a way that allows for **fast lookups**, **insertions**, and **deletions** of key-value pairs. The key concept behind a hash table is the use of a **hash function** to map the key to a specific index (or \"bucket\") in an array, which makes accessing values highly efficient.\n",
        "\n",
        "### Key Concepts of a Hash Table:\n",
        "\n",
        "1. **Hash Function**:\n",
        "   - A **hash function** takes a **key** (such as a string or a number) and computes an **index** (or **hash value**) where the associated value will be stored. The goal is to distribute keys uniformly across the array, reducing the likelihood of **collisions** (when two keys hash to the same index).\n",
        "   - Example: For a key \"apple\", a hash function might map it to the index `3`.\n",
        "\n",
        "2. **Buckets**:\n",
        "   - The hash table has an array of **buckets** or **slots** where the key-value pairs are stored. Each bucket corresponds to an index calculated by the hash function.\n",
        "   \n",
        "3. **Collision Handling**:\n",
        "   - A **collision** occurs when two different keys hash to the same index. There are various ways to handle collisions, such as **chaining** (using a linked list to store multiple items in the same bucket) or **open addressing** (finding another available bucket within the table).\n",
        "\n",
        "4. **Time Complexity**:\n",
        "   - The average time complexity for operations like **insertion**, **deletion**, and **lookup** in a hash table is **O(1)**, meaning they are performed in constant time. However, in the case of hash collisions or a poor hash function, it can degrade to **O(n)** in the worst case (when all elements end up in the same bucket).\n",
        "\n",
        "---\n",
        "\n",
        "### Hash Tables and Python Dictionaries:\n",
        "\n",
        "In Python, a **dictionary** is implemented using a **hash table** internally. The **keys** in a Python dictionary are hashed, and the resulting hash values determine where the corresponding **values** are stored. When you access a dictionary using a key, Python uses the hash of that key to quickly locate the value in the underlying hash table.\n",
        "\n",
        "### How Python Dictionaries Work:\n",
        "1. **Hashing Keys**:\n",
        "   - When you create a dictionary and insert a key-value pair, Python uses the hash of the key to determine where to store the value in memory.\n",
        "   \n",
        "   Example:\n",
        "   ```python\n",
        "   my_dict = {'apple': 5, 'banana': 10}\n",
        "   # 'apple' is hashed, and the hash value determines where the value (5) is stored.\n",
        "   ```\n",
        "\n",
        "2. **Efficient Lookups**:\n",
        "   - When you query the dictionary using a key, Python computes the hash value for the key and looks up the corresponding value in constant time (on average).\n",
        "   \n",
        "   Example:\n",
        "   ```python\n",
        "   print(my_dict['apple'])  # Output: 5\n",
        "   # Python hashes the key 'apple' and retrieves the value (5) directly.\n",
        "   ```\n",
        "\n",
        "3. **Handling Collisions**:\n",
        "   - Python dictionaries use **open addressing** and other internal techniques to handle hash collisions. If two keys happen to hash to the same index, Python will search for another open spot or resolve the collision using specific methods.\n",
        "\n",
        "4. **Immutability of Keys**:\n",
        "   - In Python, dictionary keys must be **immutable** (e.g., strings, integers, tuples). This is because the key needs to be hashable, and mutable objects would change their hash value over time, making them unreliable as dictionary keys.\n",
        "\n",
        "---\n",
        "\n",
        "### Example of a Dictionary in Python:\n",
        "\n",
        "```python\n",
        "# Creating a dictionary\n",
        "my_dict = {'apple': 5, 'banana': 10, 'orange': 3}\n",
        "\n",
        "# Accessing a value by key\n",
        "print(my_dict['apple'])  # Output: 5\n",
        "\n",
        "# Adding a new key-value pair\n",
        "my_dict['grape'] = 7\n",
        "\n",
        "# Updating an existing value\n",
        "my_dict['banana'] = 12\n",
        "\n",
        "# Removing a key-value pair\n",
        "del my_dict['orange']\n",
        "\n",
        "# Output the updated dictionary\n",
        "print(my_dict)  # Output: {'apple': 5, 'banana': 12, 'grape': 7}\n",
        "```\n",
        "\n",
        "In this example:\n",
        "- Python uses the hash of the key (e.g., 'apple', 'banana') to determine where to store the corresponding values.\n",
        "- The dictionary operations (`access`, `insert`, `update`, `delete`) are highly efficient because of the underlying hash table.\n",
        "\n",
        "---\n",
        "\n",
        "### Key Benefits of Hash Tables (and Python Dictionaries):\n",
        "1. **Fast Access**:\n",
        "   - Dictionary lookups, insertions, and deletions are on average **O(1)**, meaning they are extremely fast.\n",
        "   \n",
        "2. **No Need for Manual Indexing**:\n",
        "   - With a hash table, Python abstracts away the need to manage indexes or worry about collisions. The dictionary handles all of that internally.\n",
        "\n",
        "3. **Flexible Keys**:\n",
        "   - Python dictionaries allow you to use a variety of immutable objects as keys, including strings, numbers, and tuples. This makes it very versatile in terms of what you can use as a key.\n",
        "\n",
        "4. **Efficient Memory Use**:\n",
        "   - Hash tables are memory-efficient for managing a large number of key-value pairs. The underlying data structure dynamically grows and shrinks as needed.\n",
        "\n",
        "---\n",
        "\n",
        "### Summary of Hash Tables and Python Dictionaries:\n",
        "\n",
        "- A **hash table** is a data structure that stores key-value pairs, where keys are hashed to an index, providing efficient **O(1)** average-time operations for insertion, deletion, and lookups.\n",
        "- A **Python dictionary** is an implementation of a hash table, where keys are hashed to find the corresponding values.\n",
        "- **Collisions** (when two keys hash to the same index) are handled by Python through techniques like **open addressing**.\n",
        "- **Immutability** of dictionary keys is necessary for hash consistency, which ensures data integrity.\n",
        "\n",
        "In conclusion, Python dictionaries are a highly efficient way to store and retrieve data based on unique keys, thanks to their underlying hash table implementation."
      ],
      "metadata": {
        "id": "QD8p9dWzUDfu"
      }
    },
    {
      "cell_type": "markdown",
      "source": [
        "9.  Can lists contain different data types in Python?"
      ],
      "metadata": {
        "id": "5EMOPIU9Uatq"
      }
    },
    {
      "cell_type": "markdown",
      "source": [
        "Ans. Yes, **lists** in Python can contain elements of **different data types**. Python lists are **heterogeneous**, meaning they can store a mix of data types, including integers, floats, strings, booleans, other lists, and even custom objects.\n",
        "\n",
        "### Example of a List with Different Data Types:\n",
        "\n",
        "```python\n",
        "my_list = [42, \"Hello\", 3.14, True, [1, 2, 3], {\"key\": \"value\"}]\n",
        "```\n",
        "\n",
        "In this example:\n",
        "- `42` is an **integer**.\n",
        "- `\"Hello\"` is a **string**.\n",
        "- `3.14` is a **float**.\n",
        "- `True` is a **boolean**.\n",
        "- `[1, 2, 3]` is another **list** (a nested list).\n",
        "- `{\"key\": \"value\"}` is a **dictionary**.\n",
        "\n",
        "### Key Points:\n",
        "- Lists in Python are **ordered collections**, so the data types are preserved in the order you add them.\n",
        "- Since lists are **mutable**, you can change, add, or remove elements of any data type in the list.\n",
        "- This flexibility allows lists to be used to store and manipulate complex data structures, such as combinations of integers, strings, and objects.\n",
        "\n",
        "### Example of Accessing Mixed Data Types in a List:\n",
        "\n",
        "```python\n",
        "my_list = [42, \"Hello\", 3.14, True, [1, 2, 3], {\"key\": \"value\"}]\n",
        "\n",
        "# Accessing elements\n",
        "print(my_list[0])  # Output: 42 (integer)\n",
        "print(my_list[1])  # Output: Hello (string)\n",
        "print(my_list[2])  # Output: 3.14 (float)\n",
        "print(my_list[3])  # Output: True (boolean)\n",
        "print(my_list[4])  # Output: [1, 2, 3] (list)\n",
        "print(my_list[5])  # Output: {'key': 'value'} (dictionary)\n",
        "\n",
        "# Accessing a nested list element\n",
        "print(my_list[4][0])  # Output: 1 (accessing the first element of the nested list)\n",
        "```\n",
        "\n",
        "This demonstrates that lists can hold a variety of different data types within the same list and allows easy access to each element based on its index."
      ],
      "metadata": {
        "id": "ZagHxMMhUkdG"
      }
    },
    {
      "cell_type": "markdown",
      "source": [
        "10. Explain why strings are immutable in Python."
      ],
      "metadata": {
        "id": "Qh4-PhU4Uvdf"
      }
    },
    {
      "cell_type": "markdown",
      "source": [
        "Ans. In Python, **strings are immutable** because of several design considerations related to **efficiency**, **safety**, and **consistency**. When we say strings are immutable, it means that once a string object is created, it cannot be changed—any operation that appears to modify a string will instead create a new string object.\n",
        "\n",
        "### Reasons Why Strings are Immutable:\n",
        "\n",
        "#### 1. **Efficiency in Memory Management**:\n",
        "   - Python strings are **interned**, meaning that when you create a string, Python often reuses existing string objects in memory instead of creating new ones. This is particularly efficient for frequently used strings (like common words or phrases).\n",
        "   - If strings were mutable, Python would need to worry about tracking all references to that string across the program, which would significantly complicate memory management and slow down operations like string comparison, copying, and memory allocation.\n",
        "   - **Example** of string interning:\n",
        "     ```python\n",
        "     a = \"hello\"\n",
        "     b = \"hello\"\n",
        "     # In Python, a and b might actually point to the same memory location, because they are both the same string.\n",
        "     ```\n",
        "\n",
        "#### 2. **Hashing Consistency**:\n",
        "   - Strings are often used as keys in **dictionaries** and **sets** because they are **hashable**. For a string to remain hashable, its value must not change over time. The hash of an object is based on its content, and if a string were mutable, its hash could change after it was used as a key in a dictionary or set, causing the data structure to behave incorrectly.\n",
        "   - **Immutable strings** ensure that the hash value of the string remains constant, which is crucial for dictionaries and sets that rely on hashing to store and retrieve data efficiently.\n",
        "   - **Example**: Using a string as a dictionary key:\n",
        "     ```python\n",
        "     my_dict = {}\n",
        "     my_key = \"example\"  # A string is immutable\n",
        "     my_dict[my_key] = \"value\"\n",
        "     # If strings were mutable, modifying 'my_key' would change its hash and cause issues with dictionary lookup.\n",
        "     ```\n",
        "\n",
        "#### 3. **Safety and Avoiding Side Effects**:\n",
        "   - Immutability ensures that strings cannot be changed accidentally, which makes them safer to use in a program. For example, if multiple parts of a program are referencing the same string, you don't have to worry about one part modifying the string and affecting the others.\n",
        "   - This is especially important in **concurrent programming** or when dealing with **shared data** between different parts of a program. If strings were mutable, you would have to take extra precautions to ensure that they are not changed unexpectedly.\n",
        "   - **Example**: If you pass a string to a function, you know it cannot be altered within that function, which prevents unintentional side effects:\n",
        "     ```python\n",
        "     def modify_string(s):\n",
        "         s += \" world\"\n",
        "         return s\n",
        "     \n",
        "     original = \"hello\"\n",
        "     new_string = modify_string(original)\n",
        "     print(original)  # Output: \"hello\" (unchanged)\n",
        "     print(new_string)  # Output: \"hello world\"\n",
        "     ```\n",
        "\n",
        "#### 4. **Optimization in String Operations**:\n",
        "   - Immutability allows Python to perform **optimizations** like **string interning** (reusing existing string objects) and **constant-time comparison** between strings.\n",
        "   - Because strings cannot change, Python can optimize operations like **concatenation** and **comparison** more easily. For example, the memory and execution time needed for comparing two strings is constant, as it does not require tracking any changes.\n",
        "\n",
        "#### 5. **Simplifying Implementation of Certain Data Structures**:\n",
        "   - Many built-in data structures in Python, such as **sets** and **dictionaries**, use hash-based structures that rely on immutable types (like strings) to ensure consistency and fast performance. If strings were mutable, these data structures would be more difficult to implement and manage.\n",
        "   - In addition, **tuples** (which are immutable) can contain strings and are often used as keys in dictionaries. Allowing mutable strings would introduce complexity in maintaining these rules across Python's data structures.\n",
        "\n",
        "### Example Demonstrating Immutability:\n",
        "```python\n",
        "s = \"hello\"\n",
        "print(id(s))  # Output: Memory address of the string object\n",
        "\n",
        "s = s + \" world\"  # Creating a new string object\n",
        "print(id(s))  # Output: A new memory address is created because strings are immutable\n",
        "\n",
        "# The original string is not modified; a new string is created and assigned to 's'.\n",
        "```\n",
        "\n",
        "In this example:\n",
        "- `s` initially holds the string `\"hello\"`. When we attempt to concatenate `\" world\"`, a **new string** is created because strings cannot be modified in place.\n",
        "- The memory address of `s` changes, indicating that a new object was created, which is consistent with the immutability of strings.\n",
        "\n",
        "### Conclusion:\n",
        "Strings in Python are **immutable** for reasons related to **efficiency**, **hash consistency**, **safety**, and **optimization**. Their immutability ensures that they are hashable, can be used safely in multi-threaded environments, and allow Python to optimize memory usage and string operations."
      ],
      "metadata": {
        "id": "XXJT5TYcU1L5"
      }
    },
    {
      "cell_type": "markdown",
      "source": [
        "11. What advantages do dictionaries offer over lists for certain tasks?"
      ],
      "metadata": {
        "id": "uhHyW8n6VE0n"
      }
    },
    {
      "cell_type": "markdown",
      "source": [
        "Ans. Dictionaries in Python offer several key advantages over lists, especially when it comes to tasks that require efficient data retrieval, lookups, and organization of data with unique keys. Here are the main advantages:\n",
        "\n",
        "### 1. **Fast Lookups by Key (O(1) Time Complexity)**:\n",
        "   - **Dictionaries** provide fast lookups based on **keys**, typically with **O(1)** time complexity for retrieving, adding, or updating items. This means that accessing a value using a key is almost instantaneous, regardless of the size of the dictionary.\n",
        "   - In contrast, **lists** require searching through elements sequentially (in the case of unsorted lists), resulting in **O(n)** time complexity for lookups. This can be slow, especially with large lists.\n",
        "   \n",
        "   **Example**:\n",
        "   ```python\n",
        "   my_dict = {'apple': 5, 'banana': 10}\n",
        "   print(my_dict['apple'])  # Output: 5 (O(1) lookup)\n",
        "\n",
        "   my_list = [5, 10]\n",
        "   print(my_list[0])  # Output: 5 (O(1) access, but searching by value would be O(n))\n",
        "   ```\n",
        "\n",
        "### 2. **Key-Value Pair Storage**:\n",
        "   - **Dictionaries** store data in **key-value pairs**, making them ideal for scenarios where each value is associated with a unique key. This allows you to use meaningful, descriptive keys for fast access to the corresponding data.\n",
        "   - **Lists**, on the other hand, only store values in an ordered collection, so they don't inherently support efficient mapping between arbitrary keys and values.\n",
        "\n",
        "   **Example**:\n",
        "   ```python\n",
        "   # Dictionary stores data with keys\n",
        "   my_dict = {'name': 'Alice', 'age': 30}\n",
        "\n",
        "   # List stores only values, not a key-value mapping\n",
        "   my_list = ['Alice', 30]\n",
        "   ```\n",
        "\n",
        "### 3. **Uniqueness of Keys**:\n",
        "   - In a **dictionary**, each key must be unique. If you try to insert a new key that already exists, it will **update** the existing value associated with that key.\n",
        "   - **Lists**, however, can store multiple identical values, which can make it harder to keep track of data associated with unique identifiers.\n",
        "\n",
        "   **Example**:\n",
        "   ```python\n",
        "   # Dictionary with unique keys\n",
        "   my_dict = {'apple': 3, 'banana': 5}\n",
        "   my_dict['apple'] = 10  # Updates the value for 'apple'\n",
        "\n",
        "   # List can store duplicates\n",
        "   my_list = [3, 5, 3]  # Multiple occurrences of 3\n",
        "   ```\n",
        "\n",
        "### 4. **Better Data Organization with Descriptive Keys**:\n",
        "   - **Dictionaries** allow you to store data in a more organized manner by using **descriptive keys** (strings, numbers, etc.) to label the associated values. This is helpful when data needs to be accessed by a meaningful identifier, like a person's name, product ID, or city name.\n",
        "   - **Lists**, while great for ordered data, are not as expressive when you need to associate each value with a specific name or concept.\n",
        "\n",
        "   **Example**:\n",
        "   ```python\n",
        "   # Using a dictionary to store student data\n",
        "   student = {'name': 'John', 'age': 20, 'grade': 'A'}\n",
        "\n",
        "   # Using a list would be less clear\n",
        "   student = ['John', 20, 'A']  # No clear label for each piece of data\n",
        "   ```\n",
        "\n",
        "### 5. **Efficient Updates and Deletions**:\n",
        "   - **Dictionaries** allow you to **update** or **delete** key-value pairs efficiently in **O(1)** time. You can update values by key and remove items by key as well.\n",
        "   - **Lists** would require you to search through the list to find the item (if the list is unsorted) and then remove it, which takes **O(n)** time.\n",
        "\n",
        "   **Example**:\n",
        "   ```python\n",
        "   # Dictionary update and deletion\n",
        "   my_dict = {'apple': 5, 'banana': 10}\n",
        "   my_dict['banana'] = 15  # Update value for 'banana'\n",
        "   del my_dict['apple']  # Delete key-value pair\n",
        "\n",
        "   # List update and deletion (less efficient)\n",
        "   my_list = [5, 10]\n",
        "   my_list[0] = 20  # Update value at index 0\n",
        "   my_list.remove(10)  # O(n) to remove item by value\n",
        "   ```\n",
        "\n",
        "### 6. **Flexible Key Types**:\n",
        "   - **Dictionaries** allow a wide variety of **hashable** types as keys (e.g., strings, numbers, tuples). This flexibility enables more complex and dynamic mappings.\n",
        "   - **Lists**, on the other hand, are based on positional indexing (0, 1, 2, etc.) and do not allow custom key types.\n",
        "\n",
        "   **Example**:\n",
        "   ```python\n",
        "   # Using a tuple as a key in a dictionary\n",
        "   my_dict = {('a', 1): 'value'}\n",
        "   \n",
        "   # Lists use only numeric indices\n",
        "   my_list = ['value1', 'value2']  # No ability to use tuples or other custom keys\n",
        "   ```\n",
        "\n",
        "### 7. **Efficient Membership Tests**:\n",
        "   - **Dictionaries** offer efficient membership testing for keys using the **`in`** operator, with **O(1)** average time complexity. Checking if a value exists in a dictionary involves checking if a specific key exists, which is much faster than searching through all elements.\n",
        "   - **Lists** require **O(n)** time complexity to check if an element is present since you must iterate over all elements.\n",
        "\n",
        "   **Example**:\n",
        "   ```python\n",
        "   my_dict = {'apple': 5, 'banana': 10}\n",
        "   print('apple' in my_dict)  # Output: True (O(1) lookup)\n",
        "\n",
        "   my_list = [5, 10, 15]\n",
        "   print(10 in my_list)  # Output: True (O(n) lookup)\n",
        "   ```\n",
        "\n",
        "### 8. **Supports Complex Data Modeling**:\n",
        "   - **Dictionaries** are excellent for representing **structured data**, such as configurations, JSON-like data, and more complex mappings between objects.\n",
        "   - **Lists** are better suited for simpler, ordered collections where you don’t need to associate data with specific labels or keys.\n",
        "\n",
        "   **Example**:\n",
        "   ```python\n",
        "   # Complex data modeling with a dictionary (e.g., a student's details)\n",
        "   student_info = {\n",
        "       'name': 'John Doe',\n",
        "       'age': 21,\n",
        "       'subjects': ['Math', 'Physics'],\n",
        "       'address': {'street': '123 Main St', 'city': 'Anytown'}\n",
        "   }\n",
        "   ```\n",
        "\n",
        "### Summary of Advantages:\n",
        "\n",
        "- **Faster lookups** and **efficient access** using keys (O(1) time complexity).\n",
        "- **Key-value pair storage** allows for clear and organized data association.\n",
        "- **Uniqueness of keys** ensures that each element is accessed by a unique identifier.\n",
        "- **Efficient updates, deletions, and membership tests** compared to lists.\n",
        "- **Descriptive keys** improve the clarity and expressiveness of your data.\n",
        "- **Supports flexible key types** (e.g., strings, numbers, tuples).\n",
        "- **Efficient handling of complex data structures**, like nested dictionaries.\n",
        "\n",
        "### When to Use a Dictionary Over a List:\n",
        "- When you need to associate data with unique **keys** (e.g., using names as keys for a list of ages).\n",
        "- When you need **fast lookups**, additions, and deletions based on keys.\n",
        "- When the data structure requires mapping from one item to another, like associating a student ID with a student's details.\n",
        "\n",
        "In conclusion, **dictionaries** are a powerful tool for efficient and organized data storage, especially when you need fast lookups, clear mappings, and flexible data associations. **Lists** remain useful when you need an **ordered collection** of items, but for tasks that require mapping data to specific keys, **dictionaries** provide a significant advantage."
      ],
      "metadata": {
        "id": "Cl91kDb8VKzY"
      }
    },
    {
      "cell_type": "markdown",
      "source": [
        "12. Describe a scenario where using a tuple would be preferable over a list."
      ],
      "metadata": {
        "id": "gjTGiXtgVkwA"
      }
    },
    {
      "cell_type": "markdown",
      "source": [
        "Ans. A **tuple** would be preferable over a **list** in scenarios where **immutability** and **fixed-size collections** are important. Tuples are **immutable**, meaning their contents cannot be modified after creation, which can be valuable in various situations. Here’s a practical example:\n",
        "\n",
        "### Scenario: Storing Geographic Coordinates\n",
        "\n",
        "Let’s say you need to store **geographic coordinates** (latitude, longitude) of a location. These values should not change once they are set, since geographic coordinates are typically fixed and represent a specific point on the Earth’s surface. Using a **tuple** to store these coordinates makes sense because:\n",
        "- The data (coordinates) is **immutable**. Once set, you don’t want anyone accidentally changing the values.\n",
        "- The collection is **fixed in size** (always two values—latitude and longitude).\n",
        "- **Immutability** ensures that the coordinates will remain consistent and prevent any accidental modification.\n",
        "\n",
        "### Example:\n",
        "\n",
        "```python\n",
        "# Storing geographic coordinates as a tuple\n",
        "coordinates = (40.7128, -74.0060)  # Latitude and longitude of New York City\n",
        "\n",
        "# Accessing values\n",
        "latitude = coordinates[0]  # 40.7128\n",
        "longitude = coordinates[1]  # -74.0060\n",
        "\n",
        "# Trying to modify the tuple will result in an error\n",
        "# coordinates[0] = 41.0  # This will raise a TypeError because tuples are immutable\n",
        "```\n",
        "\n",
        "### Why a Tuple is Preferred Here:\n",
        "1. **Immutability**: The coordinates should not change, so using a tuple ensures that they cannot be accidentally altered. If you used a list, someone could modify the latitude or longitude, leading to inaccurate data.\n",
        "2. **Fixed Size**: You only need two values—latitude and longitude. Tuples are ideal when the number of elements is fixed and known in advance.\n",
        "3. **Performance**: Tuples are generally more **memory-efficient** than lists because they are immutable. They can also be slightly faster for iteration and comparison since they are fixed in size.\n",
        "4. **Hashable**: Tuples can be used as keys in dictionaries or added to sets because they are **hashable** (if all their elements are hashable). Lists, on the other hand, cannot be used as dictionary keys because they are mutable.\n",
        "\n",
        "### Use Case: As Dictionary Keys\n",
        "\n",
        "If you wanted to use these coordinates as keys in a dictionary, a tuple would be required because tuples are **hashable** and **immutable**, while lists are not.\n",
        "\n",
        "```python\n",
        "# Using tuples as keys in a dictionary\n",
        "location_data = {\n",
        "    (40.7128, -74.0060): \"New York City\",\n",
        "    (34.0522, -118.2437): \"Los Angeles\"\n",
        "}\n",
        "\n",
        "# Accessing the city based on coordinates\n",
        "city = location_data[(40.7128, -74.0060)]  # Output: New York City\n",
        "```\n",
        "\n",
        "### When Tuples Are Preferred:\n",
        "- **Constant, fixed-size collections**: For example, storing RGB values, date/time, or coordinates.\n",
        "- **Preventing accidental modification**: When you want to ensure that the data remains unchanged.\n",
        "- **Using data as dictionary keys or set elements**: Because tuples are hashable, they can be used in sets or as keys in dictionaries, unlike lists.\n",
        "\n",
        "### In Summary:\n",
        "Using a **tuple** is preferable when the data should not change, the collection is small and fixed in size, or when you need the data to be **hashable** (such as for dictionary keys). This makes tuples ideal for scenarios like representing coordinates, RGB values, or other types of immutable collections."
      ],
      "metadata": {
        "id": "JXd__tveVsNk"
      }
    },
    {
      "cell_type": "markdown",
      "source": [
        "13. How do sets handle duplicate values in Python?"
      ],
      "metadata": {
        "id": "oDxgcW7qV8Zx"
      }
    },
    {
      "cell_type": "markdown",
      "source": [
        "Ans. In Python, **sets** automatically **eliminate duplicates**. A set is an unordered collection of unique elements, meaning that it cannot contain duplicate values. If you try to add a duplicate value to a set, it will simply be ignored, and the set will remain unchanged.\n",
        "\n",
        "### Key Characteristics of Sets Regarding Duplicates:\n",
        "1. **Uniqueness**: A set will only store one instance of each unique element. Any subsequent attempt to add the same element will have no effect.\n",
        "2. **Unordered**: Sets do not maintain the order of elements, so there’s no guarantee of the order in which items are stored.\n",
        "3. **Hashing**: Elements in a set are stored using a **hashing mechanism** for fast lookups, which is another reason that duplicates are automatically filtered out.\n",
        "\n",
        "### Example:\n",
        "\n",
        "```python\n",
        "# Creating a set with some duplicate values\n",
        "my_set = {1, 2, 2, 3, 3, 4, 5, 5}\n",
        "\n",
        "# The set will automatically remove duplicates\n",
        "print(my_set)  # Output: {1, 2, 3, 4, 5}\n",
        "```\n",
        "\n",
        "In the example above:\n",
        "- The elements `2`, `3`, and `5` appeared more than once, but only one instance of each was kept in the set.\n",
        "- The final set contains only the unique elements `{1, 2, 3, 4, 5}`.\n",
        "\n",
        "### What Happens When You Add a Duplicate?\n",
        "If you add an element that already exists in the set, the set will simply **ignore it**.\n",
        "\n",
        "```python\n",
        "my_set = {1, 2, 3}\n",
        "my_set.add(2)  # Adding a duplicate value\n",
        "print(my_set)  # Output: {1, 2, 3} (no change)\n",
        "```\n",
        "\n",
        "In this case, adding `2` again doesn’t alter the set because `2` is already present.\n",
        "\n",
        "### Practical Uses of Sets to Handle Duplicates:\n",
        "- **Removing duplicates from a list**: You can convert a list to a set to automatically eliminate duplicates, and then convert it back to a list if needed.\n",
        "  \n",
        "  ```python\n",
        "  my_list = [1, 2, 2, 3, 4, 4, 5]\n",
        "  unique_list = list(set(my_list))\n",
        "  print(unique_list)  # Output: [1, 2, 3, 4, 5] (order may vary)\n",
        "  ```\n",
        "\n",
        "- **Set operations** like union, intersection, and difference are also used when you want to perform operations on unique elements without worrying about duplicates.\n",
        "\n",
        "### Summary:\n",
        "- Sets **automatically remove duplicate elements** when they are added.\n",
        "- They are **unordered** collections, so the order of elements is not guaranteed.\n",
        "- Sets are useful for situations where you need to work with **unique values**, such as removing duplicates or performing mathematical set operations."
      ],
      "metadata": {
        "id": "0VCummLPWBFd"
      }
    },
    {
      "cell_type": "markdown",
      "source": [
        "14.  How does the “in” keyword work differently for lists and dictionaries?"
      ],
      "metadata": {
        "id": "LtYs26dCWRjD"
      }
    },
    {
      "cell_type": "markdown",
      "source": [
        "Ans. The `in` keyword in Python is used to check for membership, but how it works differs for **lists** and **dictionaries** due to their distinct structures and how they store data.\n",
        "\n",
        "### 1. **Using `in` with Lists**\n",
        "When you use the `in` keyword with a **list**, it checks for the **existence of a value** in the list. The search goes through the entire list to see if the specified value is present. This operation has a **time complexity of O(n)**, where `n` is the number of elements in the list, because it requires scanning each element until a match is found (or the list is exhausted).\n",
        "\n",
        "#### Example with a List:\n",
        "```python\n",
        "my_list = [10, 20, 30, 40]\n",
        "\n",
        "# Check if a specific value is in the list\n",
        "print(20 in my_list)  # Output: True\n",
        "print(50 in my_list)  # Output: False\n",
        "```\n",
        "- When checking `20 in my_list`, it finds the value `20` in the list and returns `True`.\n",
        "- When checking `50 in my_list`, it doesn’t find the value, so it returns `False`.\n",
        "\n",
        "### 2. **Using `in` with Dictionaries**\n",
        "When you use the `in` keyword with a **dictionary**, it checks for the **existence of a key**, not a value. The search happens in the dictionary’s **keys** (not values) and is typically much faster than searching in a list due to the **hashing** mechanism dictionaries use. The time complexity for this operation is **O(1)** on average, since dictionaries are implemented using hash tables.\n",
        "\n",
        "#### Example with a Dictionary:\n",
        "```python\n",
        "my_dict = {'apple': 1, 'banana': 2, 'cherry': 3}\n",
        "\n",
        "# Check if a specific key is in the dictionary\n",
        "print('apple' in my_dict)  # Output: True\n",
        "print('orange' in my_dict)  # Output: False\n",
        "```\n",
        "- When checking `'apple' in my_dict`, it finds the key `'apple'` and returns `True`.\n",
        "- When checking `'orange' in my_dict`, it doesn’t find the key, so it returns `False`.\n",
        "\n",
        "#### Key Differences:\n",
        "- **For lists**, `in` checks if a specific value exists anywhere in the list.\n",
        "- **For dictionaries**, `in` checks if a specific **key** exists in the dictionary.\n",
        "\n",
        "#### Checking for Values in a Dictionary:\n",
        "If you want to check for a **value** in a dictionary, you need to explicitly use the `.values()` method.\n",
        "\n",
        "```python\n",
        "# Check if a specific value exists in the dictionary\n",
        "print(2 in my_dict.values())  # Output: True (since 'banana' has the value 2)\n",
        "print(5 in my_dict.values())  # Output: False\n",
        "```\n",
        "\n",
        "### Summary of Differences:\n",
        "\n",
        "| **Data Type**       | **`in` Keyword Function**                         | **Time Complexity**    |\n",
        "|---------------------|---------------------------------------------------|------------------------|\n",
        "| **List**            | Checks if a **value** is present in the list      | O(n) (searches through each element) |\n",
        "| **Dictionary**      | Checks if a **key** is present in the dictionary  | O(1) (hash table lookup)  |\n",
        "\n",
        "- **Lists**: `in` checks for the **value**.\n",
        "- **Dictionaries**: `in` checks for the **key**. To check for a **value**, use `.values()`."
      ],
      "metadata": {
        "id": "Kcm3FtvHWYob"
      }
    },
    {
      "cell_type": "markdown",
      "source": [
        "15. Can you modify the elements of a tuple? Explain why or why not."
      ],
      "metadata": {
        "id": "ZPq7bCzoWl29"
      }
    },
    {
      "cell_type": "markdown",
      "source": [
        "Ans. No, you **cannot modify the elements of a tuple** in Python after it has been created. This is because **tuples are immutable**.\n",
        "\n",
        "### What Does Immutable Mean?\n",
        "When we say that a tuple is **immutable**, it means that the data inside the tuple cannot be changed (modified, added, or removed) once it has been created. Unlike lists, which are mutable and allow changes to their elements, tuples are designed to protect their data integrity by ensuring their contents cannot be altered.\n",
        "\n",
        "### Why Are Tuples Immutable?\n",
        "1. **Performance**: Since tuples are immutable, they can be stored more efficiently than lists. The memory allocation is optimized for the fact that the elements of the tuple won’t change.\n",
        "2. **Data Integrity**: Immutability ensures that the data in a tuple remains consistent and unaltered. This is useful when you need to guarantee that data will not be accidentally modified, such as when using tuples as keys in dictionaries (since immutability ensures that the hash value of the tuple doesn’t change).\n",
        "3. **Safety in Multithreading**: Tuples being immutable are **thread-safe**, which means multiple threads can access the same tuple without the risk of modifying its contents.\n",
        "\n",
        "### Example of Attempting to Modify a Tuple:\n",
        "\n",
        "```python\n",
        "my_tuple = (1, 2, 3)\n",
        "\n",
        "# Trying to modify an element of the tuple\n",
        "# This will raise a TypeError because tuples are immutable\n",
        "my_tuple[1] = 4  # Raises TypeError: 'tuple' object does not support item assignment\n",
        "```\n",
        "\n",
        "### What You Can Do with Tuples:\n",
        "- You **can access** and **read** the elements of a tuple.\n",
        "- You **can concatenate** two tuples to create a new one (this doesn’t modify the original tuple but creates a new one).\n",
        "- You **can slice** a tuple to create a new tuple with a subset of elements.\n",
        "  \n",
        "### Example of Allowed Operations:\n",
        "```python\n",
        "# Accessing elements\n",
        "print(my_tuple[0])  # Output: 1\n",
        "\n",
        "# Concatenating two tuples (creating a new tuple)\n",
        "new_tuple = my_tuple + (4, 5)\n",
        "print(new_tuple)  # Output: (1, 2, 3, 4, 5)\n",
        "\n",
        "# Slicing a tuple (creating a new tuple)\n",
        "sliced_tuple = my_tuple[1:3]\n",
        "print(sliced_tuple)  # Output: (2, 3)\n",
        "```\n",
        "\n",
        "### Can You Modify Mutable Elements Inside a Tuple?\n",
        "While you **cannot modify** the tuple itself (i.e., you cannot add, remove, or change elements), if the tuple contains **mutable objects** (like lists), you **can modify the mutable objects** within the tuple. This is because the immutability applies to the tuple structure itself, not to the objects it contains.\n",
        "\n",
        "```python\n",
        "# A tuple with a list as an element\n",
        "my_tuple = ([1, 2, 3], 'hello')\n",
        "\n",
        "# Modifying the list inside the tuple\n",
        "my_tuple[0][1] = 5\n",
        "print(my_tuple)  # Output: ([1, 5, 3], 'hello')\n",
        "```\n",
        "\n",
        "In this case, while the tuple’s structure itself is immutable (you can’t change the list to another list), you can modify the contents of the mutable object inside the tuple (the list in this case).\n",
        "\n",
        "### Summary:\n",
        "- **Tuples are immutable**, so you cannot modify their elements.\n",
        "- You can **read**, **concatenate**, and **slice** tuples, but you cannot change their elements once created.\n",
        "- If a tuple contains mutable objects (e.g., a list), you can modify those objects, but the tuple itself cannot be altered."
      ],
      "metadata": {
        "id": "HOHCy124WteC"
      }
    },
    {
      "cell_type": "markdown",
      "source": [
        "16. What is a nested dictionary, and give an example of its use case?"
      ],
      "metadata": {
        "id": "rTW3b5r7W8PR"
      }
    },
    {
      "cell_type": "markdown",
      "source": [
        "Ans. A **nested dictionary** is a dictionary in Python where the values are themselves dictionaries. In other words, you can have dictionaries inside other dictionaries, creating a **hierarchical** or **multi-level** structure.\n",
        "\n",
        "### Key Features:\n",
        "- A nested dictionary is essentially a dictionary where each value can be another dictionary, which can contain additional key-value pairs.\n",
        "- It’s useful for representing structured data that has multiple levels or categories, like **real-world entities** with attributes.\n",
        "\n",
        "### Use Case Example: Storing Information about Employees\n",
        "\n",
        "Let’s imagine we are storing information about employees in a company. Each employee has a name, age, and contact details. The contact details can include their phone number and email address, which themselves are key-value pairs. This structure is ideal for a **nested dictionary**.\n",
        "\n",
        "### Example of a Nested Dictionary:\n",
        "```python\n",
        "# Nested dictionary to store information about employees\n",
        "employees = {\n",
        "    \"emp001\": {\n",
        "        \"name\": \"John Doe\",\n",
        "        \"age\": 30,\n",
        "        \"contact\": {\n",
        "            \"phone\": \"555-1234\",\n",
        "            \"email\": \"johndoe@example.com\"\n",
        "        }\n",
        "    },\n",
        "    \"emp002\": {\n",
        "        \"name\": \"Jane Smith\",\n",
        "        \"age\": 25,\n",
        "        \"contact\": {\n",
        "            \"phone\": \"555-5678\",\n",
        "            \"email\": \"janesmith@example.com\"\n",
        "        }\n",
        "    }\n",
        "}\n",
        "\n",
        "# Accessing data in the nested dictionary\n",
        "print(employees[\"emp001\"][\"name\"])  # Output: John Doe\n",
        "print(employees[\"emp002\"][\"contact\"][\"email\"])  # Output: janesmith@example.com\n",
        "```\n",
        "\n",
        "### Explanation of the Example:\n",
        "- The **outer dictionary** (with keys `\"emp001\"` and `\"emp002\"`) holds information about employees.\n",
        "- Inside each employee dictionary, there are keys like `\"name\"`, `\"age\"`, and `\"contact\"`. The `\"contact\"` key itself maps to another dictionary that contains the phone and email details.\n",
        "- To access a specific value, you can chain keys. For example, `employees[\"emp001\"][\"contact\"][\"email\"]` accesses the email address of employee `\"emp001\"`.\n",
        "\n",
        "### Common Use Cases for Nested Dictionaries:\n",
        "1. **Storing Hierarchical Data**: If you have data that fits a hierarchical structure, such as organization charts, geographic data, or product categories, nested dictionaries can represent this complexity.\n",
        "2. **Database-like Structures**: Nested dictionaries are useful for storing database-like information in memory, where each \"row\" can be represented as a dictionary, and additional nested dictionaries hold related information (like contact details or product specifications).\n",
        "3. **Configuration Files**: You might use nested dictionaries to represent settings or configurations where some settings have sub-settings or categories.\n",
        "\n",
        "### Example: Configuration Settings\n",
        "\n",
        "Let’s say we have a configuration for a web application, which contains settings for database connection, API keys, and security configurations.\n",
        "\n",
        "```python\n",
        "config = {\n",
        "    \"database\": {\n",
        "        \"host\": \"localhost\",\n",
        "        \"port\": 5432,\n",
        "        \"username\": \"admin\",\n",
        "        \"password\": \"password123\"\n",
        "    },\n",
        "    \"api\": {\n",
        "        \"key\": \"api-key-12345\",\n",
        "        \"endpoint\": \"https://api.example.com\"\n",
        "    },\n",
        "    \"security\": {\n",
        "        \"ssl_enabled\": True,\n",
        "        \"token_expiry\": 3600\n",
        "    }\n",
        "}\n",
        "\n",
        "# Accessing a configuration value\n",
        "print(config[\"database\"][\"host\"])  # Output: localhost\n",
        "print(config[\"api\"][\"key\"])  # Output: api-key-12345\n",
        "```\n",
        "\n",
        "In this example:\n",
        "- The **outer dictionary** holds different categories (`\"database\"`, `\"api\"`, `\"security\"`).\n",
        "- Each category contains specific configuration options, which can be accessed using keys like `config[\"database\"][\"host\"]`.\n",
        "\n",
        "### Summary:\n",
        "- A **nested dictionary** is a dictionary where values can themselves be dictionaries, allowing you to store hierarchical or complex data structures.\n",
        "- Use cases include representing structured data, such as employee information, configuration settings, or other multi-level data."
      ],
      "metadata": {
        "id": "17dWHSevXBYE"
      }
    },
    {
      "cell_type": "markdown",
      "source": [
        "17.  Describe the time complexity of accessing elements in a dictionary."
      ],
      "metadata": {
        "id": "ua6WF6r8XPX4"
      }
    },
    {
      "cell_type": "markdown",
      "source": [
        "Ans. In Python, dictionaries are implemented using **hash tables**, which provide very efficient ways of storing and accessing data. The time complexity of accessing an element in a dictionary depends on how the hash table operates.\n",
        "\n",
        "### Time Complexity of Accessing Elements in a Dictionary:\n",
        "1. **Average Case**: **O(1)**\n",
        "   - In the average case, dictionary lookups are performed in **constant time**. This means that no matter how many elements the dictionary contains, the time it takes to retrieve a value associated with a specific key does not increase significantly.\n",
        "   - This is because dictionaries use **hashing** to map keys to their corresponding values. The key is hashed, and the hash function directly maps it to an index in an internal table where the value is stored.\n",
        "   - Hash tables have the property that you can retrieve the value associated with a key almost immediately by looking up the hash.\n",
        "\n",
        "2. **Worst Case**: **O(n)**\n",
        "   - The worst-case time complexity occurs when there are many **collisions** in the hash table, meaning that multiple keys hash to the same index. This can happen if the hash function isn't good at distributing keys evenly or if there are too many elements for the hash table to handle efficiently.\n",
        "   - In the worst case, all elements could be stored in the same \"bucket\" (a list or chain), causing the lookup time to degrade to **O(n)**, where `n` is the number of items in the dictionary.\n",
        "   - However, this scenario is rare because Python uses a good hashing mechanism, and the size of the dictionary is typically rehashed (expanded) when the load factor is too high.\n",
        "\n",
        "### Practical Considerations:\n",
        "- **Amortized Time Complexity**: In practice, dictionary lookups are often **O(1)** due to Python’s dynamic resizing of the hash table to reduce the likelihood of collisions.\n",
        "- **Collisions**: When multiple keys map to the same hash value, Python handles this with techniques like **chaining** (where multiple elements are stored in a linked list or other structure at the same index), which may increase the lookup time in the worst case but still maintains efficient average-case performance.\n",
        "\n",
        "### Example:\n",
        "\n",
        "```python\n",
        "my_dict = {'a': 1, 'b': 2, 'c': 3}\n",
        "\n",
        "# Accessing elements (O(1) on average)\n",
        "print(my_dict['a'])  # Output: 1\n",
        "```\n",
        "\n",
        "In this example:\n",
        "- Accessing `my_dict['a']` is done in constant time, **O(1)**, on average because Python uses a hash table for the dictionary.\n",
        "\n",
        "### Summary:\n",
        "- **Average Case**: **O(1)** — Accessing elements in a dictionary is usually done in constant time due to the hash table structure.\n",
        "- **Worst Case**: **O(n)** — In the rare case of excessive collisions, dictionary access can degrade to linear time.\n",
        "- In practice, dictionary lookups are typically **O(1)** on average, making dictionaries very efficient for key-value access."
      ],
      "metadata": {
        "id": "2H5_jCu4Xe05"
      }
    },
    {
      "cell_type": "markdown",
      "source": [
        "18.  In what situations are lists preferred over dictionaries?"
      ],
      "metadata": {
        "id": "P_-0cYSWXhFC"
      }
    },
    {
      "cell_type": "markdown",
      "source": [
        "Ans. **Lists** and **dictionaries** serve different purposes, and choosing between them depends on the specific requirements of the task at hand. Here are the situations where **lists** are preferred over **dictionaries**:\n",
        "\n",
        "### 1. **When the Order of Elements Matters**\n",
        "- **Lists** are **ordered** collections of elements, meaning that the order in which elements are inserted is preserved. If you need to maintain a specific order, such as sorting or iterating over elements in the same order they were added, lists are ideal.\n",
        "\n",
        "  **Example**: Storing a sequence of events that happened in a specific order.\n",
        "  ```python\n",
        "  events = [\"start\", \"load\", \"process\", \"finish\"]\n",
        "  ```\n",
        "\n",
        "  In this case, the order matters, and using a **list** allows you to retain that order.\n",
        "\n",
        "### 2. **When You Need to Access Elements by Index**\n",
        "- Lists allow for **indexed access**. If you know the position of the element in the sequence (i.e., its index), lists are the best choice since you can access elements directly by their index in **constant time**.\n",
        "\n",
        "  **Example**: A playlist of songs where you can access a song by its position in the list.\n",
        "  ```python\n",
        "  playlist = [\"Song A\", \"Song B\", \"Song C\"]\n",
        "  song = playlist[1]  # Accessing the second song, \"Song B\"\n",
        "  ```\n",
        "\n",
        "  In this case, accessing the list by index is straightforward and efficient.\n",
        "\n",
        "### 3. **When You Need to Store a Sequence of Similar Elements**\n",
        "- Lists are a good choice when you want to store a collection of **similar elements**. If all elements in your collection are of the same type (e.g., integers, strings), lists are appropriate because they allow you to handle the collection as a simple ordered sequence.\n",
        "\n",
        "  **Example**: Storing a list of student grades:\n",
        "  ```python\n",
        "  grades = [85, 92, 78, 88, 95]\n",
        "  ```\n",
        "\n",
        "  In this scenario, a list works well because you’re storing a sequence of similar items (integers) that don’t require key-value mapping.\n",
        "\n",
        "### 4. **When You Need to Modify the Data**\n",
        "- Lists are **mutable**, meaning you can **add, remove, or modify elements** in a list after it has been created. This makes lists ideal for scenarios where the content might change over time.\n",
        "\n",
        "  **Example**: A shopping list where items may be added or removed as needed.\n",
        "  ```python\n",
        "  shopping_list = [\"milk\", \"eggs\", \"bread\"]\n",
        "  shopping_list.append(\"butter\")  # Adding a new item\n",
        "  shopping_list.remove(\"eggs\")   # Removing an item\n",
        "  ```\n",
        "\n",
        "  In this case, you are modifying the list over time, which is a use case that fits a list well.\n",
        "\n",
        "### 5. **When You Don’t Need Key-Value Pair Mapping**\n",
        "- **Dictionaries** are based on **key-value pairs**, which means each value is associated with a unique key. However, if your data doesn’t require this key-value association and you only need a collection of elements, lists are simpler and more efficient to use.\n",
        "\n",
        "  **Example**: A list of colors where you just need the colors themselves (no associated keys).\n",
        "  ```python\n",
        "  colors = [\"red\", \"green\", \"blue\"]\n",
        "  ```\n",
        "\n",
        "  In this case, there’s no need for the complexity of a dictionary with keys, so a list is more straightforward.\n",
        "\n",
        "### 6. **When You Need to Store Homogeneous Data**\n",
        "- **Lists** are ideal when all elements in the collection are of the same type or closely related in purpose. If your data is homogenous and doesn't require unique identifiers, a list is usually sufficient and simpler to use than a dictionary.\n",
        "\n",
        "  **Example**: Storing a series of **numeric measurements** (like temperatures) or **names** where each element is of the same type.\n",
        "  ```python\n",
        "  temperatures = [22.5, 23.0, 21.8, 22.1]\n",
        "  ```\n",
        "\n",
        "  Here, a list is preferred since it’s a sequence of similar items (numbers).\n",
        "\n",
        "### 7. **When You Are Iterating Over All Elements**\n",
        "- When you need to **loop through** all elements in a collection and don’t need to access them via specific keys, a list is often simpler. Dictionaries require accessing each key to get the value, which may be more complex than iterating through a list.\n",
        "\n",
        "  **Example**: Iterating through a list of numbers and performing some operation on them.\n",
        "  ```python\n",
        "  numbers = [1, 2, 3, 4, 5]\n",
        "  for num in numbers:\n",
        "      print(num * 2)\n",
        "  ```\n",
        "\n",
        "  Iterating over a list is straightforward and often more intuitive compared to a dictionary, especially when you're dealing with simple data.\n",
        "\n",
        "### Summary: When to Use Lists Over Dictionaries\n",
        "- **When the order of elements matters.**\n",
        "- **When you need to access elements by their index.**\n",
        "- **When you need a simple sequence of similar items.**\n",
        "- **When you need to modify or update the data frequently.**\n",
        "- **When you don’t need key-value associations (e.g., just values).**\n",
        "- **When you're dealing with homogeneous data (same data type).**\n",
        "- **When you want to iterate over all elements easily.**\n",
        "\n",
        "In short, **lists** are preferred when you need an ordered collection of items, especially when those items are of the same type, and you may need to access or modify them by index or order. They’re simple, flexible, and efficient for many common use cases."
      ],
      "metadata": {
        "id": "jJqf4dwXXmVu"
      }
    },
    {
      "cell_type": "markdown",
      "source": [
        "19. Why are dictionaries considered unordered, and how does that affect data retrieval?"
      ],
      "metadata": {
        "id": "hccVWg8SX0ow"
      }
    },
    {
      "cell_type": "markdown",
      "source": [
        "Ans. ### Why Dictionaries are Considered Unordered:\n",
        "\n",
        "In Python, dictionaries are considered **unordered** because, prior to Python 3.7, they did **not guarantee** the order in which elements (key-value pairs) would be stored and retrieved. While Python 3.7+ **maintains insertion order**, meaning dictionaries will now preserve the order of items as they are added, they are still conceptually unordered because they are implemented using **hash tables**.\n",
        "\n",
        "#### Explanation of Hash Tables:\n",
        "- **Hashing**: When a key is added to a dictionary, Python computes a **hash value** for the key using a hash function. This hash value determines the location (or bucket) where the value will be stored in the internal data structure.\n",
        "- The hashing process doesn’t inherently preserve any order. Keys are distributed across the hash table, and their relative order is based on how the hash function places them, not the sequence in which they were added.\n",
        "  \n",
        "Therefore, **even though Python 3.7+ preserves insertion order**, dictionaries are still based on hash tables, and their design isn't intended to prioritize order but rather efficient lookups and key-value pair mappings.\n",
        "\n",
        "### How Does This Affect Data Retrieval?\n",
        "\n",
        "The **unordered** nature of dictionaries impacts data retrieval in the following ways:\n",
        "\n",
        "1. **Key-Based Lookup**:\n",
        "   - **Efficient Access**: The **primary strength** of dictionaries lies in their ability to retrieve data by **key**. Since dictionaries use hash tables, **accessing a value by its key** is generally **O(1)** on average, meaning it takes constant time, regardless of the size of the dictionary.\n",
        "   - However, this lookup does not rely on the order of items. Python can directly use the hash of the key to quickly find the corresponding value, without needing to scan the dictionary in any particular order.\n",
        "  \n",
        "   **Example**:\n",
        "   ```python\n",
        "   my_dict = {\"apple\": 1, \"banana\": 2, \"cherry\": 3}\n",
        "   print(my_dict[\"banana\"])  # Output: 2\n",
        "   ```\n",
        "   - The key `\"banana\"` is quickly found using its hash value, regardless of the order of the items.\n",
        "\n",
        "2. **Iteration Over Keys, Values, or Items**:\n",
        "   - **Before Python 3.7**, dictionaries did not maintain the order of insertion. So, iterating over the dictionary’s keys, values, or items would return them in an arbitrary order. This was a result of how hash tables functioned.\n",
        "   - **In Python 3.7 and beyond**, dictionaries **preserve insertion order** during iteration, meaning that if you insert items in a specific order, they will be retrieved in the same order when you iterate over the dictionary. However, this **preserved order is not guaranteed to be the same in older versions of Python**.\n",
        "   \n",
        "   **Example (Python 3.7 and later)**:\n",
        "   ```python\n",
        "   my_dict = {\"apple\": 1, \"banana\": 2, \"cherry\": 3}\n",
        "   for key, value in my_dict.items():\n",
        "       print(key, value)\n",
        "   ```\n",
        "   Output (preserving insertion order):\n",
        "   ```\n",
        "   apple 1\n",
        "   banana 2\n",
        "   cherry 3\n",
        "   ```\n",
        "\n",
        "   In this case, the items are iterated over in the order they were inserted, because Python 3.7 and later guarantee insertion order. However, in earlier versions, the order would be unpredictable.\n",
        "\n",
        "3. **No Indexing**:\n",
        "   - Unlike **lists**, which allow you to access elements by their **index** (like `my_list[0]`), **dictionaries** do not allow indexing. You must use the **key** to retrieve a value. This is because dictionaries are designed for fast lookups by key, not by position.\n",
        "   \n",
        "   **Example**:\n",
        "   ```python\n",
        "   my_dict = {\"apple\": 1, \"banana\": 2, \"cherry\": 3}\n",
        "   # Access by key, not by index\n",
        "   print(my_dict[\"apple\"])  # Output: 1\n",
        "   ```\n",
        "\n",
        "4. **Mutability**:\n",
        "   - Like lists, dictionaries are **mutable**, so you can **add, remove, and update key-value pairs**. However, due to the unordered nature of dictionaries, these operations do not affect the overall \"order\" of the dictionary, but in Python 3.7+, the dictionary still maintains the order of insertion for consistency during iteration.\n",
        "\n",
        "### Summary of the Effects:\n",
        "- **Efficiency**: Despite being unordered, dictionaries provide fast **key-based lookups** (average time complexity of **O(1)**), which is their main strength.\n",
        "- **Unpredictable Order (Before Python 3.7)**: In earlier versions of Python, dictionary order was unpredictable, and this could make tasks like iteration non-deterministic.\n",
        "- **Insertion Order (Python 3.7 and later)**: Dictionaries now preserve **insertion order** for iteration, but the **unordered** concept still stands when it comes to how they internally store data for efficient lookups.\n",
        "- **No Indexing**: Unlike lists, you cannot access dictionary elements by position (index), only by **key**.\n",
        "\n",
        "Thus, dictionaries are still considered unordered due to their underlying implementation (hash table), but they offer fast access to data when using keys."
      ],
      "metadata": {
        "id": "tF1Zz_91X5Mb"
      }
    },
    {
      "cell_type": "markdown",
      "source": [
        "20.  Explain the difference between a list and a dictionary in terms of data retrieval."
      ],
      "metadata": {
        "id": "wGtCHJiXYGo0"
      }
    },
    {
      "cell_type": "markdown",
      "source": [
        "Ans. The main difference between **lists** and **dictionaries** in terms of **data retrieval** lies in how the data is accessed and the way the data is stored:\n",
        "\n",
        "### 1. **Data Retrieval in Lists**:\n",
        "- **Index-based Access**: In a **list**, data is accessed by its **index** (position in the list). Each element in the list has a specific index, and you can retrieve an element by using that index number.\n",
        "- **Order is Important**: Lists preserve the order of elements. The first item is at index 0, the second at index 1, and so on. You can retrieve items in the order they were added (or based on their index).\n",
        "- **Linear Search**: Lists can be searched sequentially when looking for an item, so retrieving an item by its value (rather than its index) may require iterating through the list.\n",
        "\n",
        "#### Example of List Retrieval:\n",
        "```python\n",
        "my_list = [10, 20, 30, 40, 50]\n",
        "\n",
        "# Access by index (constant time O(1))\n",
        "print(my_list[2])  # Output: 30\n",
        "\n",
        "# Searching by value (linear time O(n))\n",
        "print(30 in my_list)  # Output: True\n",
        "```\n",
        "\n",
        "- **Pros of List Data Retrieval**:\n",
        "  - **Direct index-based access** is very fast (**O(1)** time complexity) for known indices.\n",
        "  - **Order matters** if you need to preserve or access the sequence of elements in the order they were added.\n",
        "\n",
        "- **Cons of List Data Retrieval**:\n",
        "  - **Searching for a value** (if the index is not known) requires iterating through the list, resulting in **O(n)** time complexity.\n",
        "\n",
        "---\n",
        "\n",
        "### 2. **Data Retrieval in Dictionaries**:\n",
        "- **Key-based Access**: In a **dictionary**, data is retrieved using a **key**, not an index. The key-value pairs are stored in the dictionary, and you access the value by using the key.\n",
        "- **Hashing Mechanism**: Internally, dictionaries use **hash tables** to store key-value pairs. This allows for efficient **O(1)** average time complexity for retrieving a value using its key (constant time), because the dictionary can compute the hash of the key and directly access the corresponding value.\n",
        "- **Unordered Storage**: Dictionaries do not maintain any order between key-value pairs. In Python 3.7 and later, dictionaries preserve the **insertion order** during iteration, but the data itself is stored based on the hash of the keys, not their insertion order.\n",
        "\n",
        "#### Example of Dictionary Retrieval:\n",
        "```python\n",
        "my_dict = {\"apple\": 1, \"banana\": 2, \"cherry\": 3}\n",
        "\n",
        "# Access by key (constant time O(1))\n",
        "print(my_dict[\"banana\"])  # Output: 2\n",
        "\n",
        "# Checking for existence of a key (constant time O(1))\n",
        "print(\"banana\" in my_dict)  # Output: True\n",
        "```\n",
        "\n",
        "- **Pros of Dictionary Data Retrieval**:\n",
        "  - **Constant time lookup** for retrieving a value using a key (**O(1)** time complexity).\n",
        "  - **Efficient for key-based access** and retrieval, especially with large datasets where you need quick lookups.\n",
        "  - **No need to search**: If you know the key, you can access the value immediately.\n",
        "\n",
        "- **Cons of Dictionary Data Retrieval**:\n",
        "  - **No indexing**: You cannot retrieve elements by their position or order (like list indexing).\n",
        "  - **Requires a unique key**: You must know the key for efficient access.\n",
        "\n",
        "---\n",
        "\n",
        "### **Key Differences in Data Retrieval:**\n",
        "\n",
        "| **Aspect**                  | **List**                                          | **Dictionary**                                      |\n",
        "|-----------------------------|---------------------------------------------------|-----------------------------------------------------|\n",
        "| **Access Method**            | By **index** (position)                           | By **key** (unique identifier)                      |\n",
        "| **Time Complexity for Access** | **O(1)** (constant time for indexed access)      | **O(1)** (average constant time for key-based access)|\n",
        "| **Order**                    | **Ordered** (preserves the sequence of elements)  | **Unordered** (but preserves insertion order in Python 3.7+) |\n",
        "| **Search by Value**          | Requires a **linear search** (O(n)) for value    | **Constant time** lookup by key (O(1))              |\n",
        "| **Use Case**                 | Best for **ordered collections** or when you access elements based on position | Best for **key-value pair mappings** or when fast lookups are needed |\n",
        "\n",
        "### **Summary:**\n",
        "- **Lists** are better when you need to **access elements by index** or maintain **ordered sequences**. They are efficient for indexed access but less efficient when you need to search for a specific value.\n",
        "- **Dictionaries** are better when you need **efficient access by key**, and they are optimized for retrieving data in **constant time** using a key. However, they are not useful for ordered data retrieval or position-based access."
      ],
      "metadata": {
        "id": "xDNl9Wo5YLgM"
      }
    },
    {
      "cell_type": "markdown",
      "source": [
        "# **Practical Questions**"
      ],
      "metadata": {
        "id": "NEvTIpn8bmp9"
      }
    },
    {
      "cell_type": "markdown",
      "source": [
        "1.  Write a code to create a string with your name and print it."
      ],
      "metadata": {
        "id": "sEyIsyT-cJJb"
      }
    },
    {
      "cell_type": "code",
      "source": [
        "my_name = \"sumit pal\"\n",
        "print(my_name)\n"
      ],
      "metadata": {
        "colab": {
          "base_uri": "https://localhost:8080/"
        },
        "id": "CoBwa7YScOqz",
        "outputId": "12118c51-dadf-4795-e1d8-49c0800e8000"
      },
      "execution_count": 2,
      "outputs": [
        {
          "output_type": "stream",
          "name": "stdout",
          "text": [
            "sumit pal\n"
          ]
        }
      ]
    },
    {
      "cell_type": "markdown",
      "source": [
        "2. Write a code to find the length of the string \"Hello World\"."
      ],
      "metadata": {
        "id": "QUsgW1Jqc9G0"
      }
    },
    {
      "cell_type": "code",
      "source": [
        "a = \"Hello World\"\n",
        "print(len(a))"
      ],
      "metadata": {
        "colab": {
          "base_uri": "https://localhost:8080/"
        },
        "id": "v2XqRuAUdCxD",
        "outputId": "79a7e25c-a0be-48a0-9eff-d112756f4ffa"
      },
      "execution_count": 3,
      "outputs": [
        {
          "output_type": "stream",
          "name": "stdout",
          "text": [
            "11\n"
          ]
        }
      ]
    },
    {
      "cell_type": "markdown",
      "source": [
        " 3. Write a code to slice the first 3 characters from the string \"Python Programming\"."
      ],
      "metadata": {
        "id": "yOTFzOvZruVj"
      }
    },
    {
      "cell_type": "code",
      "source": [
        "String = \"Paython Programming\"\n",
        "sliced_string = String[0:3]\n",
        "print(sliced_string)\n"
      ],
      "metadata": {
        "colab": {
          "base_uri": "https://localhost:8080/"
        },
        "id": "ZK3NOdh9r10F",
        "outputId": "e138d5dd-9d18-4a7d-ea16-82bb6d956359"
      },
      "execution_count": 1,
      "outputs": [
        {
          "output_type": "stream",
          "name": "stdout",
          "text": [
            "Pay\n"
          ]
        }
      ]
    },
    {
      "cell_type": "markdown",
      "source": [
        "4.  Write a code to convert the string \"hello\" to uppercase."
      ],
      "metadata": {
        "id": "6H-mplvnsX8H"
      }
    },
    {
      "cell_type": "code",
      "source": [
        "String = \"hello\"\n",
        "uppercase_string = String.upper()\n",
        "print(uppercase_string)\n",
        "\n"
      ],
      "metadata": {
        "colab": {
          "base_uri": "https://localhost:8080/"
        },
        "id": "nRDILfO5sd0q",
        "outputId": "04dc4d77-be1a-4515-a4ff-95c8f7e2a604"
      },
      "execution_count": 4,
      "outputs": [
        {
          "output_type": "stream",
          "name": "stdout",
          "text": [
            "HELLO\n"
          ]
        }
      ]
    },
    {
      "cell_type": "markdown",
      "source": [
        "5. Write a code to replace the word \"apple\" with \"orange\" in the string \"I like apple\"."
      ],
      "metadata": {
        "id": "rVTP24kvt7HK"
      }
    },
    {
      "cell_type": "code",
      "source": [
        "string = \"I like apple\"\n",
        "new_string = string.replace(\"apple\", \"orange\")\n",
        "print(new_string)"
      ],
      "metadata": {
        "colab": {
          "base_uri": "https://localhost:8080/"
        },
        "id": "FxYLOCf5uAhf",
        "outputId": "a019fbce-2d44-421b-b2bf-668161a5d16b"
      },
      "execution_count": 5,
      "outputs": [
        {
          "output_type": "stream",
          "name": "stdout",
          "text": [
            "I like orange\n"
          ]
        }
      ]
    },
    {
      "cell_type": "markdown",
      "source": [
        "6. Write a code to create a list with numbers 1 to 5 and print it."
      ],
      "metadata": {
        "id": "c0JAjWyFuT_C"
      }
    },
    {
      "cell_type": "code",
      "source": [
        "Number = [1,2,3,4,5]\n",
        "print(Number)"
      ],
      "metadata": {
        "colab": {
          "base_uri": "https://localhost:8080/"
        },
        "id": "xB1L4LHDuaQB",
        "outputId": "64428192-8bc8-45ef-8c26-d12735596a12"
      },
      "execution_count": 6,
      "outputs": [
        {
          "output_type": "stream",
          "name": "stdout",
          "text": [
            "[1, 2, 3, 4, 5]\n"
          ]
        }
      ]
    },
    {
      "cell_type": "markdown",
      "source": [
        "7.  Write a code to append the number 10 to the list [1, 2, 3, 4]."
      ],
      "metadata": {
        "id": "xzs9Y69jupy2"
      }
    },
    {
      "cell_type": "code",
      "source": [
        "Number = [1,2,3,4]\n",
        "Number.append(10)\n",
        "print(Number)"
      ],
      "metadata": {
        "colab": {
          "base_uri": "https://localhost:8080/"
        },
        "id": "C93aQbv-uwf3",
        "outputId": "2ee1e585-0654-4497-fd79-9008a09d25b8"
      },
      "execution_count": 7,
      "outputs": [
        {
          "output_type": "stream",
          "name": "stdout",
          "text": [
            "[1, 2, 3, 4, 10]\n"
          ]
        }
      ]
    },
    {
      "cell_type": "markdown",
      "source": [
        "8.  Write a code to remove the number 3 from the list [1, 2, 3, 4, 5]."
      ],
      "metadata": {
        "id": "AUNTIBLRu8Ym"
      }
    },
    {
      "cell_type": "code",
      "source": [
        "Num = [1,2,3,4,5]\n",
        "Num.remove(3)\n",
        "print(Num)"
      ],
      "metadata": {
        "colab": {
          "base_uri": "https://localhost:8080/"
        },
        "id": "VEIATK-OvCEL",
        "outputId": "eef52102-42ae-451d-e21b-283e37fa29d8"
      },
      "execution_count": 10,
      "outputs": [
        {
          "output_type": "stream",
          "name": "stdout",
          "text": [
            "[1, 2, 4, 5]\n"
          ]
        }
      ]
    },
    {
      "cell_type": "markdown",
      "source": [
        "9.  Write a code to access the second element in the list ['a', 'b', 'c', 'd']."
      ],
      "metadata": {
        "id": "rK60ZNXovmPY"
      }
    },
    {
      "cell_type": "code",
      "source": [
        "list = [\"a\",\"B\",\"c\",\"d\"]\n",
        "print(list[1])"
      ],
      "metadata": {
        "colab": {
          "base_uri": "https://localhost:8080/"
        },
        "id": "Z66QufBLvrXh",
        "outputId": "e99ab1d0-9245-4136-aa45-5a1efcd4dffb"
      },
      "execution_count": 11,
      "outputs": [
        {
          "output_type": "stream",
          "name": "stdout",
          "text": [
            "B\n"
          ]
        }
      ]
    },
    {
      "cell_type": "markdown",
      "source": [
        "10. Write a code to reverse the list [10, 20, 30, 40, 50]."
      ],
      "metadata": {
        "id": "8jQaXUkgv6N-"
      }
    },
    {
      "cell_type": "code",
      "source": [
        "list = [10,20,30,40,50]\n",
        "list.reverse()\n",
        "print(list)"
      ],
      "metadata": {
        "colab": {
          "base_uri": "https://localhost:8080/"
        },
        "id": "xfrUCyVEv9yV",
        "outputId": "b7bffda9-2ce5-4f7b-da40-cfbb9e041979"
      },
      "execution_count": 12,
      "outputs": [
        {
          "output_type": "stream",
          "name": "stdout",
          "text": [
            "[50, 40, 30, 20, 10]\n"
          ]
        }
      ]
    },
    {
      "cell_type": "markdown",
      "source": [
        "11. Write a code to create a tuple with the elements 100, 200, 300 and print it."
      ],
      "metadata": {
        "id": "FseIYct3wEP_"
      }
    },
    {
      "cell_type": "code",
      "source": [
        "tuple = (100,200,300)\n",
        "print(tuple)\n"
      ],
      "metadata": {
        "colab": {
          "base_uri": "https://localhost:8080/"
        },
        "id": "nVGYAM9mwk7f",
        "outputId": "db76da33-1014-4dbe-f387-64867d420c9f"
      },
      "execution_count": 13,
      "outputs": [
        {
          "output_type": "stream",
          "name": "stdout",
          "text": [
            "(100, 200, 300)\n"
          ]
        }
      ]
    },
    {
      "cell_type": "markdown",
      "source": [
        "12. Write a code to access the second-to-last element of the tuple ('red', 'green', 'blue', 'yellow')."
      ],
      "metadata": {
        "id": "X3TXCLGgwtOf"
      }
    },
    {
      "cell_type": "code",
      "source": [
        "tuple = (\"red\",\"green\",\"blue\",\"yellow\")\n",
        "print(tuple[-2])"
      ],
      "metadata": {
        "colab": {
          "base_uri": "https://localhost:8080/"
        },
        "id": "eEL6HCNCwycV",
        "outputId": "5900da60-30ca-40cf-ea9c-cf70c794af64"
      },
      "execution_count": 15,
      "outputs": [
        {
          "output_type": "stream",
          "name": "stdout",
          "text": [
            "blue\n"
          ]
        }
      ]
    },
    {
      "cell_type": "markdown",
      "source": [
        "13. Write a code to find the minimum number in the tuple (10, 20, 5, 15)."
      ],
      "metadata": {
        "id": "_5eTKxOMxTfk"
      }
    },
    {
      "cell_type": "code",
      "source": [
        "tuple = (10,20,5,15)\n",
        "print(min(tuple))"
      ],
      "metadata": {
        "colab": {
          "base_uri": "https://localhost:8080/"
        },
        "id": "7pViPTrexXqI",
        "outputId": "32db00e1-db14-4348-ce80-3f1f51c32903"
      },
      "execution_count": 16,
      "outputs": [
        {
          "output_type": "stream",
          "name": "stdout",
          "text": [
            "5\n"
          ]
        }
      ]
    },
    {
      "cell_type": "markdown",
      "source": [
        "14.  Write a code to find the index of the element \"cat\" in the tuple ('dog', 'cat', 'rabbit')."
      ],
      "metadata": {
        "id": "IY8D3q7SxjS-"
      }
    },
    {
      "cell_type": "code",
      "source": [
        "tuple = (\"dog\",\"cat\",\"rabbit\")\n",
        "print(tuple.index(\"cat\"))"
      ],
      "metadata": {
        "colab": {
          "base_uri": "https://localhost:8080/"
        },
        "id": "UwksAnikxojd",
        "outputId": "4b276f17-2273-4215-aa23-88f8c174a710"
      },
      "execution_count": 17,
      "outputs": [
        {
          "output_type": "stream",
          "name": "stdout",
          "text": [
            "1\n"
          ]
        }
      ]
    },
    {
      "cell_type": "markdown",
      "source": [
        "15. Write a code to create a tuple containing three different fruits and check if \"kiwi\" is in it."
      ],
      "metadata": {
        "id": "4JUgnihkx_XC"
      }
    },
    {
      "cell_type": "code",
      "source": [
        "tuple = (\"apple\",\"banana\",\"kiwi\")\n",
        "print(\"kiwi\" in tuple)"
      ],
      "metadata": {
        "colab": {
          "base_uri": "https://localhost:8080/"
        },
        "id": "_pNuUjbFyFjG",
        "outputId": "1cfdee2c-4260-4cd3-c367-e4296d9c58bc"
      },
      "execution_count": 18,
      "outputs": [
        {
          "output_type": "stream",
          "name": "stdout",
          "text": [
            "True\n"
          ]
        }
      ]
    },
    {
      "cell_type": "markdown",
      "source": [
        "16.  Write a code to create a set with the elements 'a', 'b', 'c' and print it."
      ],
      "metadata": {
        "id": "W0UT5ZOryQlW"
      }
    },
    {
      "cell_type": "code",
      "source": [
        "set = {\"a\",\"b\",\"c\"}\n",
        "print(set)"
      ],
      "metadata": {
        "colab": {
          "base_uri": "https://localhost:8080/"
        },
        "id": "DeOzv2TJyWjW",
        "outputId": "1dace0fd-0511-4423-a371-8bf745630c18"
      },
      "execution_count": 19,
      "outputs": [
        {
          "output_type": "stream",
          "name": "stdout",
          "text": [
            "{'b', 'c', 'a'}\n"
          ]
        }
      ]
    },
    {
      "cell_type": "markdown",
      "source": [
        "17.  Write a code to clear all elements from the set {1, 2, 3, 4, 5}."
      ],
      "metadata": {
        "id": "J52SOtpOyfog"
      }
    },
    {
      "cell_type": "code",
      "source": [
        "a = {1,2,3,4,5}\n",
        "print(a)\n",
        "a.clear()\n",
        "print(a)"
      ],
      "metadata": {
        "colab": {
          "base_uri": "https://localhost:8080/"
        },
        "id": "2dkwdMZVylEe",
        "outputId": "b78b4c07-5225-4eae-cfbf-015ff30e4010"
      },
      "execution_count": 20,
      "outputs": [
        {
          "output_type": "stream",
          "name": "stdout",
          "text": [
            "{1, 2, 3, 4, 5}\n",
            "set()\n"
          ]
        }
      ]
    },
    {
      "cell_type": "markdown",
      "source": [
        "18.  Write a code to remove the element 4 from the set {1, 2, 3, 4}."
      ],
      "metadata": {
        "id": "9QHc43zhzInl"
      }
    },
    {
      "cell_type": "code",
      "source": [
        "a = {1,2,3,4}\n",
        "a.remove(4)\n",
        "print(a)"
      ],
      "metadata": {
        "colab": {
          "base_uri": "https://localhost:8080/"
        },
        "id": "9fX_x6dbzOSG",
        "outputId": "4accc527-ebf8-46db-9cf5-e7d7c1422380"
      },
      "execution_count": 21,
      "outputs": [
        {
          "output_type": "stream",
          "name": "stdout",
          "text": [
            "{1, 2, 3}\n"
          ]
        }
      ]
    },
    {
      "cell_type": "markdown",
      "source": [
        "19.  Write a code to find the union of two sets {1, 2, 3} and {3, 4, 5}."
      ],
      "metadata": {
        "id": "DhrNWmQ1zUYq"
      }
    },
    {
      "cell_type": "code",
      "source": [
        "Set1 = {1,2,3}\n",
        "Set2 = {3,4,5}\n",
        "print(Set1.union(Set2))"
      ],
      "metadata": {
        "colab": {
          "base_uri": "https://localhost:8080/"
        },
        "id": "Xn7TWCY4zYYc",
        "outputId": "f9a97082-ed59-4774-a056-9b8f98353e8c"
      },
      "execution_count": 22,
      "outputs": [
        {
          "output_type": "stream",
          "name": "stdout",
          "text": [
            "{1, 2, 3, 4, 5}\n"
          ]
        }
      ]
    },
    {
      "cell_type": "markdown",
      "source": [
        "20. Write a code to find the intersection of two sets {1, 2, 3} and {2, 3, 4}."
      ],
      "metadata": {
        "id": "Xu9GgRBAzux7"
      }
    },
    {
      "cell_type": "code",
      "source": [
        "Set1 = {1,2,3}\n",
        "Set2 = {2,3,4}\n",
        "print(Set1.intersection(Set2))"
      ],
      "metadata": {
        "colab": {
          "base_uri": "https://localhost:8080/"
        },
        "id": "Y9dx-LREzyis",
        "outputId": "9765996c-4d5b-467b-fe79-33ea5a24a50f"
      },
      "execution_count": 23,
      "outputs": [
        {
          "output_type": "stream",
          "name": "stdout",
          "text": [
            "{2, 3}\n"
          ]
        }
      ]
    },
    {
      "cell_type": "markdown",
      "source": [
        "21. Write a code to create a dictionary with the keys \"name\", \"age\", and \"city\", and print it."
      ],
      "metadata": {
        "id": "hzQiWP3c0ZLo"
      }
    },
    {
      "cell_type": "code",
      "source": [
        "dict = {\"name\":\"sumit\",\"age\":27,\"city\":\"delhi\"}\n",
        "print(dict)"
      ],
      "metadata": {
        "colab": {
          "base_uri": "https://localhost:8080/"
        },
        "id": "4J9y0AcL0d6a",
        "outputId": "172515a1-4e4a-48c0-f5db-b83cc1265db0"
      },
      "execution_count": 24,
      "outputs": [
        {
          "output_type": "stream",
          "name": "stdout",
          "text": [
            "{'name': 'sumit', 'age': 27, 'city': 'delhi'}\n"
          ]
        }
      ]
    },
    {
      "cell_type": "markdown",
      "source": [
        "22. Write a code to add a new key-value pair \"country\": \"USA\" to the dictionary {'name': 'John', 'age': 25}"
      ],
      "metadata": {
        "id": "PtWEXwOe0oTD"
      }
    },
    {
      "cell_type": "code",
      "source": [
        "person = {'name': 'John', 'age': 25}\n",
        "person['country'] = 'USA'\n",
        "print(person)"
      ],
      "metadata": {
        "colab": {
          "base_uri": "https://localhost:8080/"
        },
        "id": "RoFuT3sN0uYr",
        "outputId": "010a7479-60e2-4ab2-ddfc-0fb418eb17ae"
      },
      "execution_count": 25,
      "outputs": [
        {
          "output_type": "stream",
          "name": "stdout",
          "text": [
            "{'name': 'John', 'age': 25, 'country': 'USA'}\n"
          ]
        }
      ]
    },
    {
      "cell_type": "markdown",
      "source": [
        "23. Write a code to access the value associated with the key \"name\" in the dictionary {'name': 'Alice', 'age': 30}."
      ],
      "metadata": {
        "id": "IydyXj2v1HBn"
      }
    },
    {
      "cell_type": "code",
      "source": [
        "dict = {'name': 'Alice', 'age': 30}\n",
        "print(dict['name'])"
      ],
      "metadata": {
        "colab": {
          "base_uri": "https://localhost:8080/"
        },
        "id": "HZOck5L61Lx3",
        "outputId": "32792ecc-db49-485d-9f10-3c5b0d50cb30"
      },
      "execution_count": 26,
      "outputs": [
        {
          "output_type": "stream",
          "name": "stdout",
          "text": [
            "Alice\n"
          ]
        }
      ]
    },
    {
      "cell_type": "markdown",
      "source": [
        "24. Write a code to remove the key \"age\" from the dictionary {'name': 'Bob', 'age': 22, 'city': 'New York'}."
      ],
      "metadata": {
        "id": "UeQxZ_Ri1Y89"
      }
    },
    {
      "cell_type": "code",
      "source": [
        "a = {'name': 'Bob', 'age': 22, 'city': 'New York'}\n",
        "del a['age']\n",
        "print(a)"
      ],
      "metadata": {
        "colab": {
          "base_uri": "https://localhost:8080/"
        },
        "id": "U3vBqgKt1fFp",
        "outputId": "4c7c7058-5bee-40b4-d01d-e81afb998b97"
      },
      "execution_count": 27,
      "outputs": [
        {
          "output_type": "stream",
          "name": "stdout",
          "text": [
            "{'name': 'Bob', 'city': 'New York'}\n"
          ]
        }
      ]
    },
    {
      "cell_type": "markdown",
      "source": [
        "25. Write a code to check if the key \"city\" exists in the dictionary {'name': 'Alice', 'city': 'Paris'}."
      ],
      "metadata": {
        "id": "Wxd43_zA1ntw"
      }
    },
    {
      "cell_type": "code",
      "source": [
        "a = {'name': 'Alice', 'city': 'Paris'}\n",
        "print(\"city\" in a)"
      ],
      "metadata": {
        "colab": {
          "base_uri": "https://localhost:8080/"
        },
        "id": "-XoKVLDn1s13",
        "outputId": "f4a7d94e-30f3-4662-cbc6-36a182713e49"
      },
      "execution_count": 28,
      "outputs": [
        {
          "output_type": "stream",
          "name": "stdout",
          "text": [
            "True\n"
          ]
        }
      ]
    },
    {
      "cell_type": "markdown",
      "source": [
        "26. Write a code to create a list, a tuple, and a dictionary, and print them all."
      ],
      "metadata": {
        "id": "zSBIWoXc13vv"
      }
    },
    {
      "cell_type": "code",
      "source": [
        "my_list = [1, 2, 3, 4, 5]\n",
        "my_tuple = (6, 7, 8, 9, 10)\n",
        "my_dict = {\"name\": \"Alice\", \"age\": 30, \"city\": \"New York\"}\n",
        "\n",
        "print(\"List:\", my_list)\n",
        "print(\"Tuple:\", my_tuple)\n",
        "print(\"Dictionary:\", my_dict)\n"
      ],
      "metadata": {
        "colab": {
          "base_uri": "https://localhost:8080/"
        },
        "id": "Ag2yYIMv1-gy",
        "outputId": "91ddc84d-38e8-4cee-a336-b42c54c9ae3a"
      },
      "execution_count": 30,
      "outputs": [
        {
          "output_type": "stream",
          "name": "stdout",
          "text": [
            "List: [1, 2, 3, 4, 5]\n",
            "Tuple: (6, 7, 8, 9, 10)\n",
            "Dictionary: {'name': 'Alice', 'age': 30, 'city': 'New York'}\n"
          ]
        }
      ]
    },
    {
      "cell_type": "markdown",
      "source": [
        "27. Write a code to create a list of 5 random numbers between 1 and 100, sort it in ascending order, and print the result.(replaced)"
      ],
      "metadata": {
        "id": "sjSn5iub2TxJ"
      }
    },
    {
      "cell_type": "code",
      "source": [
        "random_numbers = [random.randint(1, 100) for _ in range(5)]\n",
        "random_numbers.sort()\n",
        "print(random_numbers)\n"
      ],
      "metadata": {
        "colab": {
          "base_uri": "https://localhost:8080/"
        },
        "id": "xcAkH_7H2ic0",
        "outputId": "944b8b49-4eeb-44f6-fe4c-c4916806e63a"
      },
      "execution_count": 37,
      "outputs": [
        {
          "output_type": "stream",
          "name": "stdout",
          "text": [
            "[28, 44, 66, 76, 98]\n"
          ]
        }
      ]
    },
    {
      "cell_type": "markdown",
      "source": [
        "28.  Write a code to create a list with strings and print the element at the third index."
      ],
      "metadata": {
        "id": "kGqiUrmX4z8z"
      }
    },
    {
      "cell_type": "code",
      "source": [
        "a = [\"apple\",\"banana\",\"cherry\",\"date\"]\n",
        "print(a[3])"
      ],
      "metadata": {
        "colab": {
          "base_uri": "https://localhost:8080/"
        },
        "id": "cXfVLM8y44GD",
        "outputId": "41d4dcf5-1fc2-419c-fac0-5d2c4eef5136"
      },
      "execution_count": 38,
      "outputs": [
        {
          "output_type": "stream",
          "name": "stdout",
          "text": [
            "date\n"
          ]
        }
      ]
    },
    {
      "cell_type": "markdown",
      "source": [
        "29.  Write a code to combine two dictionaries into one and print the result."
      ],
      "metadata": {
        "id": "UbLO97J-5BxY"
      }
    },
    {
      "cell_type": "code",
      "source": [
        "dict1 = {'a': 1, 'b': 2}\n",
        "dict2 = {'c': 3, 'd': 4}\n",
        "combined_dict = {**dict1, **dict2}\n",
        "print(combined_dict)"
      ],
      "metadata": {
        "colab": {
          "base_uri": "https://localhost:8080/"
        },
        "id": "c5Unlmw75MeP",
        "outputId": "d25ee1ac-ab83-4ff9-ba61-ad1936798238"
      },
      "execution_count": 39,
      "outputs": [
        {
          "output_type": "stream",
          "name": "stdout",
          "text": [
            "{'a': 1, 'b': 2, 'c': 3, 'd': 4}\n"
          ]
        }
      ]
    },
    {
      "cell_type": "markdown",
      "source": [
        "30. Write a code to convert a list of strings into a set."
      ],
      "metadata": {
        "id": "G-HhpF4E5du6"
      }
    },
    {
      "cell_type": "code",
      "source": [
        "s = [\"apple\",\"banana\",\"cherry\",\"date\"]\n",
        "v = set(s)\n",
        "print(v)"
      ],
      "metadata": {
        "colab": {
          "base_uri": "https://localhost:8080/",
          "height": 176
        },
        "id": "kBnAlm1K-LI9",
        "outputId": "56195e9e-323b-4743-c025-4a58678ec1ae"
      },
      "execution_count": 54,
      "outputs": [
        {
          "output_type": "error",
          "ename": "TypeError",
          "evalue": "'set' object is not callable",
          "traceback": [
            "\u001b[0;31m---------------------------------------------------------------------------\u001b[0m",
            "\u001b[0;31mTypeError\u001b[0m                                 Traceback (most recent call last)",
            "\u001b[0;32m<ipython-input-54-3edb4ff71c2d>\u001b[0m in \u001b[0;36m<cell line: 0>\u001b[0;34m()\u001b[0m\n\u001b[1;32m      1\u001b[0m \u001b[0ms\u001b[0m \u001b[0;34m=\u001b[0m \u001b[0;34m[\u001b[0m\u001b[0;34m\"apple\"\u001b[0m\u001b[0;34m,\u001b[0m\u001b[0;34m\"banana\"\u001b[0m\u001b[0;34m,\u001b[0m\u001b[0;34m\"cherry\"\u001b[0m\u001b[0;34m,\u001b[0m\u001b[0;34m\"date\"\u001b[0m\u001b[0;34m]\u001b[0m\u001b[0;34m\u001b[0m\u001b[0;34m\u001b[0m\u001b[0m\n\u001b[0;32m----> 2\u001b[0;31m \u001b[0mv\u001b[0m \u001b[0;34m=\u001b[0m \u001b[0mset\u001b[0m\u001b[0;34m(\u001b[0m\u001b[0ms\u001b[0m\u001b[0;34m)\u001b[0m\u001b[0;34m\u001b[0m\u001b[0;34m\u001b[0m\u001b[0m\n\u001b[0m\u001b[1;32m      3\u001b[0m \u001b[0mprint\u001b[0m\u001b[0;34m(\u001b[0m\u001b[0mv\u001b[0m\u001b[0;34m)\u001b[0m\u001b[0;34m\u001b[0m\u001b[0;34m\u001b[0m\u001b[0m\n",
            "\u001b[0;31mTypeError\u001b[0m: 'set' object is not callable"
          ]
        }
      ]
    },
    {
      "cell_type": "code",
      "source": [],
      "metadata": {
        "id": "kbMwMO5P-G_p"
      },
      "execution_count": null,
      "outputs": []
    },
    {
      "cell_type": "markdown",
      "source": [],
      "metadata": {
        "id": "MIF9cFrGu7lP"
      }
    },
    {
      "cell_type": "markdown",
      "source": [],
      "metadata": {
        "id": "jUupo4ikPOvs"
      }
    }
  ]
}